{
 "cells": [
  {
   "cell_type": "markdown",
   "metadata": {},
   "source": [
    "# Importing libraries"
   ]
  },
  {
   "cell_type": "code",
   "execution_count": 1,
   "metadata": {
    "_cell_guid": "b1076dfc-b9ad-4769-8c92-a6c4dae69d19",
    "_uuid": "8f2839f25d086af736a60e9eeb907d3b93b6e0e5",
    "execution": {
     "iopub.execute_input": "2023-07-04T09:29:37.667561Z",
     "iopub.status.busy": "2023-07-04T09:29:37.664920Z",
     "iopub.status.idle": "2023-07-04T09:29:37.689488Z",
     "shell.execute_reply": "2023-07-04T09:29:37.688069Z",
     "shell.execute_reply.started": "2023-07-04T09:29:37.667514Z"
    }
   },
   "outputs": [
    {
     "name": "stderr",
     "output_type": "stream",
     "text": [
      "[nltk_data] Downloading package omw-1.4 to\n",
      "[nltk_data]     /Users/kumarakrishnavaleti/nltk_data...\n",
      "[nltk_data]   Package omw-1.4 is already up-to-date!\n"
     ]
    },
    {
     "data": {
      "text/plain": [
       "True"
      ]
     },
     "execution_count": 1,
     "metadata": {},
     "output_type": "execute_result"
    }
   ],
   "source": [
    "import re\n",
    "import nltk\n",
    "import string\n",
    "import numpy as np\n",
    "import pandas as pd\n",
    "import seaborn as sns\n",
    "import matplotlib.pyplot as plt\n",
    "from nltk.corpus import stopwords\n",
    "from nltk.stem import SnowballStemmer, WordNetLemmatizer\n",
    "from sklearn.feature_extraction.text import TfidfVectorizer\n",
    "\n",
    "from sklearn.preprocessing import LabelEncoder\n",
    "from sklearn.model_selection import train_test_split\n",
    "\n",
    "from tensorflow.keras.utils import to_categorical\n",
    "from tensorflow.keras.preprocessing.text import Tokenizer\n",
    "from tensorflow.keras.preprocessing.sequence import pad_sequences\n",
    "\n",
    "from tensorflow.keras.optimizers import Adam\n",
    "from tensorflow.keras.models import Sequential\n",
    "from tensorflow.keras.callbacks import EarlyStopping\n",
    "from tensorflow.keras.layers import Dense, LSTM, Embedding, Bidirectional\n",
    "\n",
    "#nltk.download(\"stopwords\")\n",
    "stop_words = set(stopwords.words(\"english\"))\n",
    "lemmatizer= WordNetLemmatizer()\n",
    "\n",
    "# Modelling\n",
    "from sklearn.model_selection import train_test_split,KFold, GridSearchCV\n",
    "from sklearn.ensemble import RandomForestClassifier\n",
    "from sklearn.linear_model import LogisticRegression\n",
    "from sklearn.tree import DecisionTreeClassifier\n",
    "from sklearn.ensemble import RandomForestClassifier\n",
    "from sklearn.metrics import accuracy_score,confusion_matrix, classification_report\n",
    "from sklearn.pipeline import Pipeline\n",
    "from sklearn.metrics import f1_score\n",
    "from sklearn.svm import SVC\n",
    "\n",
    "#Lime\n",
    "from lime import lime_text\n",
    "from lime.lime_text import LimeTextExplainer\n",
    "from lime.lime_text import IndexedString,IndexedCharacters\n",
    "from lime.lime_base import LimeBase\n",
    "from lime.lime_text import explanation\n",
    "sns.set(font_scale=1.3)\n",
    "nltk.download('omw-1.4')"
   ]
  },
  {
   "cell_type": "code",
   "execution_count": 2,
   "metadata": {
    "execution": {
     "iopub.execute_input": "2023-07-04T09:29:37.692172Z",
     "iopub.status.busy": "2023-07-04T09:29:37.691406Z",
     "iopub.status.idle": "2023-07-04T09:29:37.790862Z",
     "shell.execute_reply": "2023-07-04T09:29:37.789705Z",
     "shell.execute_reply.started": "2023-07-04T09:29:37.692129Z"
    }
   },
   "outputs": [],
   "source": [
    "df_train1 = pd.read_csv('/Users/kumarakrishnavaleti/desktop/PS1/emotions_dataset/train.txt', names=['Text', 'Emotion'], sep=';')\n",
    "#df_train2 = pd.read_csv('/kaggle/input/emotion-dataset/training.csv', names=['Text', 'Emotion'], sep=';')\n",
    "df_train3 = pd.read_csv('/Users/kumarakrishnavaleti/desktop/PS1/Emotion_final.csv', names=['Text', 'Emotion'], sep=',')\n",
    "df_train3 = df_train3.drop(0)\n",
    "df_train2 = pd.read_csv('/Users/kumarakrishnavaleti/desktop/PS1/emotions_dataset/val.txt', names=['Text', 'Emotion'], sep=';')\n",
    "df_train4 = pd.read_csv('/Users/kumarakrishnavaleti/desktop/PS1/emotions_dataset/test.txt', names=['Text', 'Emotion'], sep=';')\n",
    "df_train = pd.concat([df_train1, df_train2, df_train3, df_train4], ignore_index=True)\n",
    "\n"
   ]
  },
  {
   "cell_type": "code",
   "execution_count": 3,
   "metadata": {},
   "outputs": [
    {
     "name": "stdout",
     "output_type": "stream",
     "text": [
      "2.13.0-rc1\n"
     ]
    }
   ],
   "source": [
    "import tensorflow as tf\n",
    "print(tf.__version__)"
   ]
  },
  {
   "cell_type": "code",
   "execution_count": 4,
   "metadata": {
    "execution": {
     "iopub.execute_input": "2023-07-04T09:29:37.793429Z",
     "iopub.status.busy": "2023-07-04T09:29:37.792409Z",
     "iopub.status.idle": "2023-07-04T09:29:37.803863Z",
     "shell.execute_reply": "2023-07-04T09:29:37.802808Z",
     "shell.execute_reply.started": "2023-07-04T09:29:37.793388Z"
    }
   },
   "outputs": [],
   "source": [
    "df_train['Emotion'] = df_train['Emotion'].replace('happy', 'joy')"
   ]
  },
  {
   "cell_type": "code",
   "execution_count": 5,
   "metadata": {
    "execution": {
     "iopub.execute_input": "2023-07-04T09:29:37.806533Z",
     "iopub.status.busy": "2023-07-04T09:29:37.805890Z",
     "iopub.status.idle": "2023-07-04T09:29:37.824124Z",
     "shell.execute_reply": "2023-07-04T09:29:37.822886Z",
     "shell.execute_reply.started": "2023-07-04T09:29:37.806490Z"
    }
   },
   "outputs": [],
   "source": [
    "# Shuffle the dataframe\n",
    "df_train_shuffled = df_train.sample(frac=1, random_state=42)\n",
    "\n",
    "# Split the shuffled dataframe into train, validation, and test sets\n",
    "train_ratio = 0.8  # 80% for training\n",
    "val_ratio = 0.1    # 10% for validation\n",
    "test_ratio = 0.1   # 10% for testing\n",
    "\n",
    "train_size = int(len(df_train_shuffled) * train_ratio)\n",
    "val_size = int(len(df_train_shuffled) * val_ratio)\n",
    "\n",
    "df_train = df_train_shuffled.iloc[:train_size]\n",
    "df_val = df_train_shuffled.iloc[train_size:train_size+val_size]\n",
    "df_test = df_train_shuffled.iloc[train_size+val_size:]\n",
    "\n",
    "# Reset the indices of the split dataframes\n",
    "df_train.reset_index(drop=True, inplace=True)\n",
    "df_val.reset_index(drop=True, inplace=True)\n",
    "df_test.reset_index(drop=True, inplace=True)\n"
   ]
  },
  {
   "cell_type": "code",
   "execution_count": 6,
   "metadata": {
    "execution": {
     "iopub.execute_input": "2023-07-04T09:29:37.827960Z",
     "iopub.status.busy": "2023-07-04T09:29:37.827637Z",
     "iopub.status.idle": "2023-07-04T09:29:37.842951Z",
     "shell.execute_reply": "2023-07-04T09:29:37.841811Z",
     "shell.execute_reply.started": "2023-07-04T09:29:37.827930Z"
    }
   },
   "outputs": [
    {
     "data": {
      "text/html": [
       "<div>\n",
       "<style scoped>\n",
       "    .dataframe tbody tr th:only-of-type {\n",
       "        vertical-align: middle;\n",
       "    }\n",
       "\n",
       "    .dataframe tbody tr th {\n",
       "        vertical-align: top;\n",
       "    }\n",
       "\n",
       "    .dataframe thead th {\n",
       "        text-align: right;\n",
       "    }\n",
       "</style>\n",
       "<table border=\"1\" class=\"dataframe\">\n",
       "  <thead>\n",
       "    <tr style=\"text-align: right;\">\n",
       "      <th></th>\n",
       "      <th>Text</th>\n",
       "      <th>Emotion</th>\n",
       "    </tr>\n",
       "  </thead>\n",
       "  <tbody>\n",
       "    <tr>\n",
       "      <th>0</th>\n",
       "      <td>i never thought i could feel thankful for such...</td>\n",
       "      <td>joy</td>\n",
       "    </tr>\n",
       "    <tr>\n",
       "      <th>1</th>\n",
       "      <td>im feeling rather disheartened</td>\n",
       "      <td>sadness</td>\n",
       "    </tr>\n",
       "    <tr>\n",
       "      <th>2</th>\n",
       "      <td>i wasnt feeling very optimistic but this would...</td>\n",
       "      <td>joy</td>\n",
       "    </tr>\n",
       "    <tr>\n",
       "      <th>3</th>\n",
       "      <td>i said it when i read about people who are loo...</td>\n",
       "      <td>anger</td>\n",
       "    </tr>\n",
       "    <tr>\n",
       "      <th>4</th>\n",
       "      <td>i hope that one day i feel some sort of divine...</td>\n",
       "      <td>joy</td>\n",
       "    </tr>\n",
       "  </tbody>\n",
       "</table>\n",
       "</div>"
      ],
      "text/plain": [
       "                                                Text  Emotion\n",
       "0  i never thought i could feel thankful for such...      joy\n",
       "1                     im feeling rather disheartened  sadness\n",
       "2  i wasnt feeling very optimistic but this would...      joy\n",
       "3  i said it when i read about people who are loo...    anger\n",
       "4  i hope that one day i feel some sort of divine...      joy"
      ]
     },
     "execution_count": 6,
     "metadata": {},
     "output_type": "execute_result"
    }
   ],
   "source": [
    "#print first 5 rows\n",
    "df_train.head()"
   ]
  },
  {
   "cell_type": "code",
   "execution_count": 7,
   "metadata": {
    "execution": {
     "iopub.execute_input": "2023-07-04T09:29:37.844834Z",
     "iopub.status.busy": "2023-07-04T09:29:37.844444Z",
     "iopub.status.idle": "2023-07-04T09:29:37.853461Z",
     "shell.execute_reply": "2023-07-04T09:29:37.851063Z",
     "shell.execute_reply.started": "2023-07-04T09:29:37.844804Z"
    }
   },
   "outputs": [
    {
     "name": "stdout",
     "output_type": "stream",
     "text": [
      "(33167, 2)\n"
     ]
    }
   ],
   "source": [
    "#print the shape of the data set\n",
    "print(df_train.shape)"
   ]
  },
  {
   "cell_type": "code",
   "execution_count": 8,
   "metadata": {
    "execution": {
     "iopub.execute_input": "2023-07-04T09:29:37.856267Z",
     "iopub.status.busy": "2023-07-04T09:29:37.854968Z",
     "iopub.status.idle": "2023-07-04T09:29:37.870318Z",
     "shell.execute_reply": "2023-07-04T09:29:37.868730Z",
     "shell.execute_reply.started": "2023-07-04T09:29:37.856198Z"
    }
   },
   "outputs": [
    {
     "data": {
      "text/html": [
       "<div>\n",
       "<style scoped>\n",
       "    .dataframe tbody tr th:only-of-type {\n",
       "        vertical-align: middle;\n",
       "    }\n",
       "\n",
       "    .dataframe tbody tr th {\n",
       "        vertical-align: top;\n",
       "    }\n",
       "\n",
       "    .dataframe thead th {\n",
       "        text-align: right;\n",
       "    }\n",
       "</style>\n",
       "<table border=\"1\" class=\"dataframe\">\n",
       "  <thead>\n",
       "    <tr style=\"text-align: right;\">\n",
       "      <th></th>\n",
       "      <th>Text</th>\n",
       "      <th>Emotion</th>\n",
       "    </tr>\n",
       "  </thead>\n",
       "  <tbody>\n",
       "    <tr>\n",
       "      <th>0</th>\n",
       "      <td>i feel helpless and scared and all of these th...</td>\n",
       "      <td>sadness</td>\n",
       "    </tr>\n",
       "    <tr>\n",
       "      <th>1</th>\n",
       "      <td>ive been hiding my eyes between tight hands ra...</td>\n",
       "      <td>love</td>\n",
       "    </tr>\n",
       "    <tr>\n",
       "      <th>2</th>\n",
       "      <td>i love about my job i still feel dissatisfied</td>\n",
       "      <td>anger</td>\n",
       "    </tr>\n",
       "    <tr>\n",
       "      <th>3</th>\n",
       "      <td>im feeling pretty annoyed with the whole thing...</td>\n",
       "      <td>anger</td>\n",
       "    </tr>\n",
       "    <tr>\n",
       "      <th>4</th>\n",
       "      <td>i feel so idiotic for letting you and myself c...</td>\n",
       "      <td>sadness</td>\n",
       "    </tr>\n",
       "  </tbody>\n",
       "</table>\n",
       "</div>"
      ],
      "text/plain": [
       "                                                Text  Emotion\n",
       "0  i feel helpless and scared and all of these th...  sadness\n",
       "1  ive been hiding my eyes between tight hands ra...     love\n",
       "2      i love about my job i still feel dissatisfied    anger\n",
       "3  im feeling pretty annoyed with the whole thing...    anger\n",
       "4  i feel so idiotic for letting you and myself c...  sadness"
      ]
     },
     "execution_count": 8,
     "metadata": {},
     "output_type": "execute_result"
    }
   ],
   "source": [
    "#print first 5 rows\n",
    "df_test.head()"
   ]
  },
  {
   "cell_type": "code",
   "execution_count": 9,
   "metadata": {
    "execution": {
     "iopub.execute_input": "2023-07-04T09:29:37.872472Z",
     "iopub.status.busy": "2023-07-04T09:29:37.871947Z",
     "iopub.status.idle": "2023-07-04T09:29:37.878765Z",
     "shell.execute_reply": "2023-07-04T09:29:37.877371Z",
     "shell.execute_reply.started": "2023-07-04T09:29:37.872429Z"
    }
   },
   "outputs": [
    {
     "name": "stdout",
     "output_type": "stream",
     "text": [
      "(4147, 2)\n"
     ]
    }
   ],
   "source": [
    "#print the shape of the data set\n",
    "print(df_test.shape)"
   ]
  },
  {
   "cell_type": "code",
   "execution_count": 10,
   "metadata": {
    "execution": {
     "iopub.execute_input": "2023-07-04T09:29:37.880744Z",
     "iopub.status.busy": "2023-07-04T09:29:37.880418Z",
     "iopub.status.idle": "2023-07-04T09:29:37.896380Z",
     "shell.execute_reply": "2023-07-04T09:29:37.895110Z",
     "shell.execute_reply.started": "2023-07-04T09:29:37.880715Z"
    }
   },
   "outputs": [
    {
     "data": {
      "text/html": [
       "<div>\n",
       "<style scoped>\n",
       "    .dataframe tbody tr th:only-of-type {\n",
       "        vertical-align: middle;\n",
       "    }\n",
       "\n",
       "    .dataframe tbody tr th {\n",
       "        vertical-align: top;\n",
       "    }\n",
       "\n",
       "    .dataframe thead th {\n",
       "        text-align: right;\n",
       "    }\n",
       "</style>\n",
       "<table border=\"1\" class=\"dataframe\">\n",
       "  <thead>\n",
       "    <tr style=\"text-align: right;\">\n",
       "      <th></th>\n",
       "      <th>Text</th>\n",
       "      <th>Emotion</th>\n",
       "    </tr>\n",
       "  </thead>\n",
       "  <tbody>\n",
       "    <tr>\n",
       "      <th>0</th>\n",
       "      <td>i look back on that i feel amazed that at such...</td>\n",
       "      <td>surprise</td>\n",
       "    </tr>\n",
       "    <tr>\n",
       "      <th>1</th>\n",
       "      <td>i feel that the content i have in mind isnt re...</td>\n",
       "      <td>joy</td>\n",
       "    </tr>\n",
       "    <tr>\n",
       "      <th>2</th>\n",
       "      <td>i drive home i feel like a petty thief having ...</td>\n",
       "      <td>anger</td>\n",
       "    </tr>\n",
       "    <tr>\n",
       "      <th>3</th>\n",
       "      <td>i feel like a guilty sack of shit</td>\n",
       "      <td>sadness</td>\n",
       "    </tr>\n",
       "    <tr>\n",
       "      <th>4</th>\n",
       "      <td>i feel extremely lost right now</td>\n",
       "      <td>sadness</td>\n",
       "    </tr>\n",
       "  </tbody>\n",
       "</table>\n",
       "</div>"
      ],
      "text/plain": [
       "                                                Text   Emotion\n",
       "0  i look back on that i feel amazed that at such...  surprise\n",
       "1  i feel that the content i have in mind isnt re...       joy\n",
       "2  i drive home i feel like a petty thief having ...     anger\n",
       "3                  i feel like a guilty sack of shit   sadness\n",
       "4                    i feel extremely lost right now   sadness"
      ]
     },
     "execution_count": 10,
     "metadata": {},
     "output_type": "execute_result"
    }
   ],
   "source": [
    "#print first 5 rows\n",
    "df_val.head()"
   ]
  },
  {
   "cell_type": "code",
   "execution_count": 11,
   "metadata": {
    "execution": {
     "iopub.execute_input": "2023-07-04T09:29:37.899898Z",
     "iopub.status.busy": "2023-07-04T09:29:37.897917Z",
     "iopub.status.idle": "2023-07-04T09:29:37.906833Z",
     "shell.execute_reply": "2023-07-04T09:29:37.905644Z",
     "shell.execute_reply.started": "2023-07-04T09:29:37.899842Z"
    }
   },
   "outputs": [
    {
     "name": "stdout",
     "output_type": "stream",
     "text": [
      "(4145, 2)\n"
     ]
    }
   ],
   "source": [
    "#print the shape of the data set\n",
    "print(df_val.shape)"
   ]
  },
  {
   "cell_type": "code",
   "execution_count": 12,
   "metadata": {
    "execution": {
     "iopub.execute_input": "2023-07-04T09:29:37.909300Z",
     "iopub.status.busy": "2023-07-04T09:29:37.908477Z",
     "iopub.status.idle": "2023-07-04T09:29:37.926490Z",
     "shell.execute_reply": "2023-07-04T09:29:37.925438Z",
     "shell.execute_reply.started": "2023-07-04T09:29:37.909219Z"
    }
   },
   "outputs": [
    {
     "data": {
      "text/plain": [
       "joy         10961\n",
       "sadness      9681\n",
       "anger        4591\n",
       "fear         3997\n",
       "love         2661\n",
       "surprise     1276\n",
       "Name: Emotion, dtype: int64"
      ]
     },
     "execution_count": 12,
     "metadata": {},
     "output_type": "execute_result"
    }
   ],
   "source": [
    "#check if the data is balanced or not\n",
    "df_train.Emotion.value_counts()"
   ]
  },
  {
   "cell_type": "code",
   "execution_count": 13,
   "metadata": {
    "execution": {
     "iopub.execute_input": "2023-07-04T09:29:37.928735Z",
     "iopub.status.busy": "2023-07-04T09:29:37.927988Z",
     "iopub.status.idle": "2023-07-04T09:29:37.945417Z",
     "shell.execute_reply": "2023-07-04T09:29:37.944413Z",
     "shell.execute_reply.started": "2023-07-04T09:29:37.928697Z"
    }
   },
   "outputs": [
    {
     "data": {
      "text/plain": [
       "joy         33.047909\n",
       "sadness     29.188651\n",
       "anger       13.842072\n",
       "fear        12.051135\n",
       "love         8.023035\n",
       "surprise     3.847198\n",
       "Name: Emotion, dtype: float64"
      ]
     },
     "execution_count": 13,
     "metadata": {},
     "output_type": "execute_result"
    }
   ],
   "source": [
    "#check if the data is balanced or not\n",
    "df_train.Emotion.value_counts() / df_train.shape[0] *100"
   ]
  },
  {
   "cell_type": "code",
   "execution_count": 14,
   "metadata": {
    "execution": {
     "iopub.execute_input": "2023-07-04T09:29:37.948343Z",
     "iopub.status.busy": "2023-07-04T09:29:37.947472Z",
     "iopub.status.idle": "2023-07-04T09:29:38.270949Z",
     "shell.execute_reply": "2023-07-04T09:29:38.269818Z",
     "shell.execute_reply.started": "2023-07-04T09:29:37.948293Z"
    }
   },
   "outputs": [
    {
     "data": {
      "image/png": "[encoded data removed]",
      "text/plain": [
       "<Figure size 800x400 with 1 Axes>"
      ]
     },
     "metadata": {},
     "output_type": "display_data"
    }
   ],
   "source": [
    "plt.figure(figsize=(8,4))\n",
    "sns.countplot(x='Emotion', data=df_train);"
   ]
  },
  {
   "cell_type": "markdown",
   "metadata": {},
   "source": [
    "The data is imbalanced so, we may try to balance it but also, the emotions that we interested in are the most repeated emotion so, till now we can keep the data as it is"
   ]
  },
  {
   "cell_type": "code",
   "execution_count": 15,
   "metadata": {
    "execution": {
     "iopub.execute_input": "2023-07-04T09:29:38.273617Z",
     "iopub.status.busy": "2023-07-04T09:29:38.272878Z",
     "iopub.status.idle": "2023-07-04T09:29:38.296168Z",
     "shell.execute_reply": "2023-07-04T09:29:38.295180Z",
     "shell.execute_reply.started": "2023-07-04T09:29:38.273572Z"
    }
   },
   "outputs": [
    {
     "data": {
      "text/plain": [
       "Text       0\n",
       "Emotion    0\n",
       "dtype: int64"
      ]
     },
     "execution_count": 15,
     "metadata": {},
     "output_type": "execute_result"
    }
   ],
   "source": [
    "#print the number of null values in each column\n",
    "df_train.isnull().sum()"
   ]
  },
  {
   "cell_type": "markdown",
   "metadata": {},
   "source": [
    "The data doesn't contains any null values"
   ]
  },
  {
   "cell_type": "code",
   "execution_count": 16,
   "metadata": {
    "execution": {
     "iopub.execute_input": "2023-07-04T09:29:38.299086Z",
     "iopub.status.busy": "2023-07-04T09:29:38.298339Z",
     "iopub.status.idle": "2023-07-04T09:29:38.329185Z",
     "shell.execute_reply": "2023-07-04T09:29:38.327934Z",
     "shell.execute_reply.started": "2023-07-04T09:29:38.299046Z"
    }
   },
   "outputs": [
    {
     "data": {
      "text/plain": [
       "12814"
      ]
     },
     "execution_count": 16,
     "metadata": {},
     "output_type": "execute_result"
    }
   ],
   "source": [
    "#print the number of duplicated values \n",
    "df_train.duplicated().sum()"
   ]
  },
  {
   "cell_type": "code",
   "execution_count": 17,
   "metadata": {
    "execution": {
     "iopub.execute_input": "2023-07-04T09:29:38.331442Z",
     "iopub.status.busy": "2023-07-04T09:29:38.331008Z",
     "iopub.status.idle": "2023-07-04T09:29:38.368510Z",
     "shell.execute_reply": "2023-07-04T09:29:38.367135Z",
     "shell.execute_reply.started": "2023-07-04T09:29:38.331402Z"
    }
   },
   "outputs": [
    {
     "name": "stderr",
     "output_type": "stream",
     "text": [
      "/var/folders/hz/lcq0rx_90gq0lk9rm64pkzth0000gn/T/ipykernel_24926/1730637252.py:3: SettingWithCopyWarning: \n",
      "A value is trying to be set on a copy of a slice from a DataFrame\n",
      "\n",
      "See the caveats in the documentation: https://pandas.pydata.org/pandas-docs/stable/user_guide/indexing.html#returning-a-view-versus-a-copy\n",
      "  df_train.drop(index, axis = 0, inplace = True)\n"
     ]
    }
   ],
   "source": [
    "#removing duplicated values\n",
    "index = df_train[df_train.duplicated() == True].index\n",
    "df_train.drop(index, axis = 0, inplace = True)\n",
    "df_train.reset_index(inplace=True, drop = True)"
   ]
  },
  {
   "cell_type": "code",
   "execution_count": 18,
   "metadata": {
    "execution": {
     "iopub.execute_input": "2023-07-04T09:29:38.370984Z",
     "iopub.status.busy": "2023-07-04T09:29:38.370521Z",
     "iopub.status.idle": "2023-07-04T09:29:38.394635Z",
     "shell.execute_reply": "2023-07-04T09:29:38.393434Z",
     "shell.execute_reply.started": "2023-07-04T09:29:38.370940Z"
    }
   },
   "outputs": [
    {
     "data": {
      "text/html": [
       "<div>\n",
       "<style scoped>\n",
       "    .dataframe tbody tr th:only-of-type {\n",
       "        vertical-align: middle;\n",
       "    }\n",
       "\n",
       "    .dataframe tbody tr th {\n",
       "        vertical-align: top;\n",
       "    }\n",
       "\n",
       "    .dataframe thead th {\n",
       "        text-align: right;\n",
       "    }\n",
       "</style>\n",
       "<table border=\"1\" class=\"dataframe\">\n",
       "  <thead>\n",
       "    <tr style=\"text-align: right;\">\n",
       "      <th></th>\n",
       "      <th>Text</th>\n",
       "      <th>Emotion</th>\n",
       "    </tr>\n",
       "  </thead>\n",
       "  <tbody>\n",
       "    <tr>\n",
       "      <th>3396</th>\n",
       "      <td>i feel that being faithful isnt enough in your...</td>\n",
       "      <td>joy</td>\n",
       "    </tr>\n",
       "    <tr>\n",
       "      <th>4958</th>\n",
       "      <td>i am feeling stressed and more than a bit anxious</td>\n",
       "      <td>sadness</td>\n",
       "    </tr>\n",
       "    <tr>\n",
       "      <th>6185</th>\n",
       "      <td>i had to choose the sleek and smoother feel of...</td>\n",
       "      <td>joy</td>\n",
       "    </tr>\n",
       "    <tr>\n",
       "      <th>6820</th>\n",
       "      <td>i feel im being generous with that statement</td>\n",
       "      <td>love</td>\n",
       "    </tr>\n",
       "    <tr>\n",
       "      <th>6875</th>\n",
       "      <td>i cant escape the tears of sadness and just tr...</td>\n",
       "      <td>love</td>\n",
       "    </tr>\n",
       "    <tr>\n",
       "      <th>7140</th>\n",
       "      <td>i often find myself feeling assaulted by a mul...</td>\n",
       "      <td>sadness</td>\n",
       "    </tr>\n",
       "    <tr>\n",
       "      <th>7564</th>\n",
       "      <td>i have chose for myself that makes me feel ama...</td>\n",
       "      <td>joy</td>\n",
       "    </tr>\n",
       "    <tr>\n",
       "      <th>7907</th>\n",
       "      <td>i feel like i am in paradise kissing those swe...</td>\n",
       "      <td>joy</td>\n",
       "    </tr>\n",
       "    <tr>\n",
       "      <th>8064</th>\n",
       "      <td>i write these words i feel sweet baby kicks fr...</td>\n",
       "      <td>joy</td>\n",
       "    </tr>\n",
       "    <tr>\n",
       "      <th>8760</th>\n",
       "      <td>i am not amazing or great at photography but i...</td>\n",
       "      <td>love</td>\n",
       "    </tr>\n",
       "    <tr>\n",
       "      <th>9247</th>\n",
       "      <td>i resorted to yesterday the post peak day of i...</td>\n",
       "      <td>anger</td>\n",
       "    </tr>\n",
       "    <tr>\n",
       "      <th>9360</th>\n",
       "      <td>i could feel myself hit this strange foggy wall</td>\n",
       "      <td>fear</td>\n",
       "    </tr>\n",
       "    <tr>\n",
       "      <th>9471</th>\n",
       "      <td>i feel so blessed to be a part of your days</td>\n",
       "      <td>joy</td>\n",
       "    </tr>\n",
       "    <tr>\n",
       "      <th>9748</th>\n",
       "      <td>i could feel his breath on me and smell the sw...</td>\n",
       "      <td>love</td>\n",
       "    </tr>\n",
       "    <tr>\n",
       "      <th>10096</th>\n",
       "      <td>i will feel as though i am accepted by as well...</td>\n",
       "      <td>love</td>\n",
       "    </tr>\n",
       "    <tr>\n",
       "      <th>10100</th>\n",
       "      <td>im still not sure why reilly feels the need to...</td>\n",
       "      <td>fear</td>\n",
       "    </tr>\n",
       "    <tr>\n",
       "      <th>10329</th>\n",
       "      <td>i bet taylor swift basks in the knowledge that...</td>\n",
       "      <td>anger</td>\n",
       "    </tr>\n",
       "    <tr>\n",
       "      <th>10375</th>\n",
       "      <td>i still feel completely accepted</td>\n",
       "      <td>love</td>\n",
       "    </tr>\n",
       "    <tr>\n",
       "      <th>10444</th>\n",
       "      <td>i feel cared for and accepted</td>\n",
       "      <td>love</td>\n",
       "    </tr>\n",
       "    <tr>\n",
       "      <th>10815</th>\n",
       "      <td>i feel most passionate about</td>\n",
       "      <td>joy</td>\n",
       "    </tr>\n",
       "    <tr>\n",
       "      <th>10995</th>\n",
       "      <td>i feel like some of you have pains and you can...</td>\n",
       "      <td>love</td>\n",
       "    </tr>\n",
       "    <tr>\n",
       "      <th>11367</th>\n",
       "      <td>i have not conducted a survey but it is quite ...</td>\n",
       "      <td>fear</td>\n",
       "    </tr>\n",
       "    <tr>\n",
       "      <th>11982</th>\n",
       "      <td>i feel kind of strange</td>\n",
       "      <td>fear</td>\n",
       "    </tr>\n",
       "    <tr>\n",
       "      <th>12189</th>\n",
       "      <td>i feel so blessed and honored that we get to b...</td>\n",
       "      <td>love</td>\n",
       "    </tr>\n",
       "    <tr>\n",
       "      <th>13066</th>\n",
       "      <td>i have had several new members tell me how com...</td>\n",
       "      <td>love</td>\n",
       "    </tr>\n",
       "    <tr>\n",
       "      <th>13544</th>\n",
       "      <td>i realized what i am passionate about helping ...</td>\n",
       "      <td>love</td>\n",
       "    </tr>\n",
       "    <tr>\n",
       "      <th>13632</th>\n",
       "      <td>i loved the feeling i got during an amazing sl...</td>\n",
       "      <td>surprise</td>\n",
       "    </tr>\n",
       "    <tr>\n",
       "      <th>13736</th>\n",
       "      <td>i was so stubborn and that it took you getting...</td>\n",
       "      <td>love</td>\n",
       "    </tr>\n",
       "    <tr>\n",
       "      <th>14467</th>\n",
       "      <td>i feel completely blessed to be a part of this...</td>\n",
       "      <td>joy</td>\n",
       "    </tr>\n",
       "    <tr>\n",
       "      <th>14835</th>\n",
       "      <td>i don t always feel like i have amazing style ...</td>\n",
       "      <td>surprise</td>\n",
       "    </tr>\n",
       "    <tr>\n",
       "      <th>14867</th>\n",
       "      <td>i honestly feel at heart we should be faithful...</td>\n",
       "      <td>joy</td>\n",
       "    </tr>\n",
       "    <tr>\n",
       "      <th>15068</th>\n",
       "      <td>i still feel a craving for sweet food</td>\n",
       "      <td>joy</td>\n",
       "    </tr>\n",
       "    <tr>\n",
       "      <th>15566</th>\n",
       "      <td>i found myself feeling inhibited and shushing ...</td>\n",
       "      <td>fear</td>\n",
       "    </tr>\n",
       "    <tr>\n",
       "      <th>15779</th>\n",
       "      <td>i feel the need to pimp this since raini my be...</td>\n",
       "      <td>love</td>\n",
       "    </tr>\n",
       "    <tr>\n",
       "      <th>15843</th>\n",
       "      <td>i began to feel accepted by gaia on her own terms</td>\n",
       "      <td>love</td>\n",
       "    </tr>\n",
       "    <tr>\n",
       "      <th>15979</th>\n",
       "      <td>ive also made it with both sugar measurements ...</td>\n",
       "      <td>love</td>\n",
       "    </tr>\n",
       "    <tr>\n",
       "      <th>16527</th>\n",
       "      <td>i feel not having a generous spirit or a forgi...</td>\n",
       "      <td>love</td>\n",
       "    </tr>\n",
       "    <tr>\n",
       "      <th>16961</th>\n",
       "      <td>i feel so weird about it</td>\n",
       "      <td>surprise</td>\n",
       "    </tr>\n",
       "    <tr>\n",
       "      <th>17096</th>\n",
       "      <td>i feel like a tortured artist when i talk to her</td>\n",
       "      <td>fear</td>\n",
       "    </tr>\n",
       "    <tr>\n",
       "      <th>18256</th>\n",
       "      <td>i feel pretty tortured because i work a job an...</td>\n",
       "      <td>fear</td>\n",
       "    </tr>\n",
       "    <tr>\n",
       "      <th>18484</th>\n",
       "      <td>i feel so weird and scattered with all wonders...</td>\n",
       "      <td>surprise</td>\n",
       "    </tr>\n",
       "    <tr>\n",
       "      <th>18913</th>\n",
       "      <td>i was intensely conscious of how much cash i h...</td>\n",
       "      <td>sadness</td>\n",
       "    </tr>\n",
       "    <tr>\n",
       "      <th>18961</th>\n",
       "      <td>i feel a remembrance of the strange by justin ...</td>\n",
       "      <td>fear</td>\n",
       "    </tr>\n",
       "    <tr>\n",
       "      <th>19571</th>\n",
       "      <td>i feel so tortured by it</td>\n",
       "      <td>anger</td>\n",
       "    </tr>\n",
       "    <tr>\n",
       "      <th>19678</th>\n",
       "      <td>i was sitting in the corner stewing in my own ...</td>\n",
       "      <td>sadness</td>\n",
       "    </tr>\n",
       "    <tr>\n",
       "      <th>19755</th>\n",
       "      <td>i tend to stop breathing when i m feeling stre...</td>\n",
       "      <td>anger</td>\n",
       "    </tr>\n",
       "    <tr>\n",
       "      <th>19922</th>\n",
       "      <td>i feel on the verge of tears from weariness i ...</td>\n",
       "      <td>joy</td>\n",
       "    </tr>\n",
       "    <tr>\n",
       "      <th>20034</th>\n",
       "      <td>i feel like i am very passionate about youtube...</td>\n",
       "      <td>love</td>\n",
       "    </tr>\n",
       "  </tbody>\n",
       "</table>\n",
       "</div>"
      ],
      "text/plain": [
       "                                                    Text   Emotion\n",
       "3396   i feel that being faithful isnt enough in your...       joy\n",
       "4958   i am feeling stressed and more than a bit anxious   sadness\n",
       "6185   i had to choose the sleek and smoother feel of...       joy\n",
       "6820        i feel im being generous with that statement      love\n",
       "6875   i cant escape the tears of sadness and just tr...      love\n",
       "7140   i often find myself feeling assaulted by a mul...   sadness\n",
       "7564   i have chose for myself that makes me feel ama...       joy\n",
       "7907   i feel like i am in paradise kissing those swe...       joy\n",
       "8064   i write these words i feel sweet baby kicks fr...       joy\n",
       "8760   i am not amazing or great at photography but i...      love\n",
       "9247   i resorted to yesterday the post peak day of i...     anger\n",
       "9360     i could feel myself hit this strange foggy wall      fear\n",
       "9471         i feel so blessed to be a part of your days       joy\n",
       "9748   i could feel his breath on me and smell the sw...      love\n",
       "10096  i will feel as though i am accepted by as well...      love\n",
       "10100  im still not sure why reilly feels the need to...      fear\n",
       "10329  i bet taylor swift basks in the knowledge that...     anger\n",
       "10375                   i still feel completely accepted      love\n",
       "10444                      i feel cared for and accepted      love\n",
       "10815                       i feel most passionate about       joy\n",
       "10995  i feel like some of you have pains and you can...      love\n",
       "11367  i have not conducted a survey but it is quite ...      fear\n",
       "11982                             i feel kind of strange      fear\n",
       "12189  i feel so blessed and honored that we get to b...      love\n",
       "13066  i have had several new members tell me how com...      love\n",
       "13544  i realized what i am passionate about helping ...      love\n",
       "13632  i loved the feeling i got during an amazing sl...  surprise\n",
       "13736  i was so stubborn and that it took you getting...      love\n",
       "14467  i feel completely blessed to be a part of this...       joy\n",
       "14835  i don t always feel like i have amazing style ...  surprise\n",
       "14867  i honestly feel at heart we should be faithful...       joy\n",
       "15068              i still feel a craving for sweet food       joy\n",
       "15566  i found myself feeling inhibited and shushing ...      fear\n",
       "15779  i feel the need to pimp this since raini my be...      love\n",
       "15843  i began to feel accepted by gaia on her own terms      love\n",
       "15979  ive also made it with both sugar measurements ...      love\n",
       "16527  i feel not having a generous spirit or a forgi...      love\n",
       "16961                           i feel so weird about it  surprise\n",
       "17096   i feel like a tortured artist when i talk to her      fear\n",
       "18256  i feel pretty tortured because i work a job an...      fear\n",
       "18484  i feel so weird and scattered with all wonders...  surprise\n",
       "18913  i was intensely conscious of how much cash i h...   sadness\n",
       "18961  i feel a remembrance of the strange by justin ...      fear\n",
       "19571                           i feel so tortured by it     anger\n",
       "19678  i was sitting in the corner stewing in my own ...   sadness\n",
       "19755  i tend to stop breathing when i m feeling stre...     anger\n",
       "19922  i feel on the verge of tears from weariness i ...       joy\n",
       "20034  i feel like i am very passionate about youtube...      love"
      ]
     },
     "execution_count": 18,
     "metadata": {},
     "output_type": "execute_result"
    }
   ],
   "source": [
    "#print the rows which are duplicated (duplicated in the text but with different emotions)\n",
    "df_train[df_train['Text'].duplicated() == True]"
   ]
  },
  {
   "cell_type": "code",
   "execution_count": 19,
   "metadata": {
    "execution": {
     "iopub.execute_input": "2023-07-04T09:29:38.396897Z",
     "iopub.status.busy": "2023-07-04T09:29:38.396479Z",
     "iopub.status.idle": "2023-07-04T09:29:38.413521Z",
     "shell.execute_reply": "2023-07-04T09:29:38.412310Z",
     "shell.execute_reply.started": "2023-07-04T09:29:38.396848Z"
    }
   },
   "outputs": [
    {
     "data": {
      "text/html": [
       "<div>\n",
       "<style scoped>\n",
       "    .dataframe tbody tr th:only-of-type {\n",
       "        vertical-align: middle;\n",
       "    }\n",
       "\n",
       "    .dataframe tbody tr th {\n",
       "        vertical-align: top;\n",
       "    }\n",
       "\n",
       "    .dataframe thead th {\n",
       "        text-align: right;\n",
       "    }\n",
       "</style>\n",
       "<table border=\"1\" class=\"dataframe\">\n",
       "  <thead>\n",
       "    <tr style=\"text-align: right;\">\n",
       "      <th></th>\n",
       "      <th>Text</th>\n",
       "      <th>Emotion</th>\n",
       "    </tr>\n",
       "  </thead>\n",
       "  <tbody>\n",
       "    <tr>\n",
       "      <th>7623</th>\n",
       "      <td>i feel overwhelmed or a little blue usually ar...</td>\n",
       "      <td>fear</td>\n",
       "    </tr>\n",
       "  </tbody>\n",
       "</table>\n",
       "</div>"
      ],
      "text/plain": [
       "                                                   Text Emotion\n",
       "7623  i feel overwhelmed or a little blue usually ar...    fear"
      ]
     },
     "execution_count": 19,
     "metadata": {},
     "output_type": "execute_result"
    }
   ],
   "source": [
    "#print some of those rows to check\n",
    "df_train[df_train['Text'] == df_train.iloc[7623]['Text']]"
   ]
  },
  {
   "cell_type": "code",
   "execution_count": 20,
   "metadata": {
    "execution": {
     "iopub.execute_input": "2023-07-04T09:29:38.416389Z",
     "iopub.status.busy": "2023-07-04T09:29:38.415570Z",
     "iopub.status.idle": "2023-07-04T09:29:38.434926Z",
     "shell.execute_reply": "2023-07-04T09:29:38.433681Z",
     "shell.execute_reply.started": "2023-07-04T09:29:38.416300Z"
    }
   },
   "outputs": [
    {
     "data": {
      "text/html": [
       "<div>\n",
       "<style scoped>\n",
       "    .dataframe tbody tr th:only-of-type {\n",
       "        vertical-align: middle;\n",
       "    }\n",
       "\n",
       "    .dataframe tbody tr th {\n",
       "        vertical-align: top;\n",
       "    }\n",
       "\n",
       "    .dataframe thead th {\n",
       "        text-align: right;\n",
       "    }\n",
       "</style>\n",
       "<table border=\"1\" class=\"dataframe\">\n",
       "  <thead>\n",
       "    <tr style=\"text-align: right;\">\n",
       "      <th></th>\n",
       "      <th>Text</th>\n",
       "      <th>Emotion</th>\n",
       "    </tr>\n",
       "  </thead>\n",
       "  <tbody>\n",
       "    <tr>\n",
       "      <th>14313</th>\n",
       "      <td>i feel giggly</td>\n",
       "      <td>joy</td>\n",
       "    </tr>\n",
       "  </tbody>\n",
       "</table>\n",
       "</div>"
      ],
      "text/plain": [
       "                Text Emotion\n",
       "14313  i feel giggly     joy"
      ]
     },
     "execution_count": 20,
     "metadata": {},
     "output_type": "execute_result"
    }
   ],
   "source": [
    "df_train[df_train['Text'] == df_train.iloc[14313]['Text']]\n"
   ]
  },
  {
   "cell_type": "code",
   "execution_count": 21,
   "metadata": {
    "execution": {
     "iopub.execute_input": "2023-07-04T09:29:38.438548Z",
     "iopub.status.busy": "2023-07-04T09:29:38.438208Z",
     "iopub.status.idle": "2023-07-04T09:29:38.461783Z",
     "shell.execute_reply": "2023-07-04T09:29:38.460184Z",
     "shell.execute_reply.started": "2023-07-04T09:29:38.438520Z"
    }
   },
   "outputs": [
    {
     "data": {
      "text/html": [
       "<div>\n",
       "<style scoped>\n",
       "    .dataframe tbody tr th:only-of-type {\n",
       "        vertical-align: middle;\n",
       "    }\n",
       "\n",
       "    .dataframe tbody tr th {\n",
       "        vertical-align: top;\n",
       "    }\n",
       "\n",
       "    .dataframe thead th {\n",
       "        text-align: right;\n",
       "    }\n",
       "</style>\n",
       "<table border=\"1\" class=\"dataframe\">\n",
       "  <thead>\n",
       "    <tr style=\"text-align: right;\">\n",
       "      <th></th>\n",
       "      <th>Text</th>\n",
       "      <th>Emotion</th>\n",
       "    </tr>\n",
       "  </thead>\n",
       "  <tbody>\n",
       "    <tr>\n",
       "      <th>13879</th>\n",
       "      <td>All during the night , over and over again , s...</td>\n",
       "      <td>joy</td>\n",
       "    </tr>\n",
       "  </tbody>\n",
       "</table>\n",
       "</div>"
      ],
      "text/plain": [
       "                                                    Text Emotion\n",
       "13879  All during the night , over and over again , s...     joy"
      ]
     },
     "execution_count": 21,
     "metadata": {},
     "output_type": "execute_result"
    }
   ],
   "source": [
    "df_train[df_train['Text'] == df_train.iloc[13879]['Text']]\n"
   ]
  },
  {
   "cell_type": "code",
   "execution_count": 22,
   "metadata": {
    "execution": {
     "iopub.execute_input": "2023-07-04T09:29:38.463457Z",
     "iopub.status.busy": "2023-07-04T09:29:38.463119Z",
     "iopub.status.idle": "2023-07-04T09:29:38.479198Z",
     "shell.execute_reply": "2023-07-04T09:29:38.477686Z",
     "shell.execute_reply.started": "2023-07-04T09:29:38.463427Z"
    }
   },
   "outputs": [
    {
     "name": "stderr",
     "output_type": "stream",
     "text": [
      "/var/folders/hz/lcq0rx_90gq0lk9rm64pkzth0000gn/T/ipykernel_24926/2711179159.py:3: SettingWithCopyWarning: \n",
      "A value is trying to be set on a copy of a slice from a DataFrame\n",
      "\n",
      "See the caveats in the documentation: https://pandas.pydata.org/pandas-docs/stable/user_guide/indexing.html#returning-a-view-versus-a-copy\n",
      "  df_train.drop(index, axis = 0, inplace = True)\n"
     ]
    }
   ],
   "source": [
    "#removing duplicated text \n",
    "index = df_train[df_train['Text'].duplicated() == True].index\n",
    "df_train.drop(index, axis = 0, inplace = True)\n",
    "df_train.reset_index(inplace=True, drop = True)"
   ]
  },
  {
   "cell_type": "code",
   "execution_count": 23,
   "metadata": {
    "execution": {
     "iopub.execute_input": "2023-07-04T09:29:38.482661Z",
     "iopub.status.busy": "2023-07-04T09:29:38.481931Z",
     "iopub.status.idle": "2023-07-04T09:29:38.678115Z",
     "shell.execute_reply": "2023-07-04T09:29:38.677121Z",
     "shell.execute_reply.started": "2023-07-04T09:29:38.482611Z"
    }
   },
   "outputs": [
    {
     "data": {
      "text/plain": [
       "7     1815\n",
       "5     1789\n",
       "6     1781\n",
       "4     1710\n",
       "8     1684\n",
       "3     1626\n",
       "9     1530\n",
       "10    1335\n",
       "2     1204\n",
       "11    1132\n",
       "12     905\n",
       "13     774\n",
       "14     606\n",
       "1      593\n",
       "15     469\n",
       "16     341\n",
       "17     289\n",
       "18     197\n",
       "19     136\n",
       "0      117\n",
       "20     117\n",
       "21      70\n",
       "22      37\n",
       "23      27\n",
       "24       8\n",
       "26       6\n",
       "25       5\n",
       "29       1\n",
       "28       1\n",
       "Name: stop_words, dtype: int64"
      ]
     },
     "execution_count": 23,
     "metadata": {},
     "output_type": "execute_result"
    }
   ],
   "source": [
    "#Count the number of stopwords in the data\n",
    "temp =df_train.copy()\n",
    "stop_words = set(stopwords.words(\"english\"))\n",
    "temp['stop_words'] = temp['Text'].apply(lambda x: len(set(x.split()) & set(stop_words)))\n",
    "temp.stop_words.value_counts()"
   ]
  },
  {
   "cell_type": "code",
   "execution_count": 24,
   "metadata": {
    "execution": {
     "iopub.execute_input": "2023-07-04T09:29:38.681544Z",
     "iopub.status.busy": "2023-07-04T09:29:38.679723Z",
     "iopub.status.idle": "2023-07-04T09:29:39.016290Z",
     "shell.execute_reply": "2023-07-04T09:29:39.015262Z",
     "shell.execute_reply.started": "2023-07-04T09:29:38.681500Z"
    }
   },
   "outputs": [
    {
     "data": {
      "text/plain": [
       "<Axes: ylabel='Frequency'>"
      ]
     },
     "execution_count": 24,
     "metadata": {},
     "output_type": "execute_result"
    },
    {
     "data": {
      "image/png": "[encoded data removed]",
      "text/plain": [
       "<Figure size 640x480 with 1 Axes>"
      ]
     },
     "metadata": {},
     "output_type": "display_data"
    }
   ],
   "source": [
    "#distribution of stopwords visually\n",
    "temp['stop_words'].plot(kind= 'hist')\n"
   ]
  },
  {
   "cell_type": "code",
   "execution_count": 25,
   "metadata": {
    "execution": {
     "iopub.execute_input": "2023-07-04T09:29:39.018514Z",
     "iopub.status.busy": "2023-07-04T09:29:39.018071Z",
     "iopub.status.idle": "2023-07-04T09:29:39.030104Z",
     "shell.execute_reply": "2023-07-04T09:29:39.028943Z",
     "shell.execute_reply.started": "2023-07-04T09:29:39.018471Z"
    }
   },
   "outputs": [
    {
     "data": {
      "text/plain": [
       "joy         1400\n",
       "sadness     1204\n",
       "anger        583\n",
       "fear         488\n",
       "love         299\n",
       "surprise     173\n",
       "Name: Emotion, dtype: int64"
      ]
     },
     "execution_count": 25,
     "metadata": {},
     "output_type": "execute_result"
    }
   ],
   "source": [
    "#check if the data is balanced or not\n",
    "df_test.Emotion.value_counts()"
   ]
  },
  {
   "cell_type": "code",
   "execution_count": 26,
   "metadata": {
    "execution": {
     "iopub.execute_input": "2023-07-04T09:29:39.032230Z",
     "iopub.status.busy": "2023-07-04T09:29:39.031529Z",
     "iopub.status.idle": "2023-07-04T09:29:39.311291Z",
     "shell.execute_reply": "2023-07-04T09:29:39.310223Z",
     "shell.execute_reply.started": "2023-07-04T09:29:39.032186Z"
    }
   },
   "outputs": [
    {
     "data": {
      "image/png": "[encoded data removed]",
      "text/plain": [
       "<Figure size 800x400 with 1 Axes>"
      ]
     },
     "metadata": {},
     "output_type": "display_data"
    }
   ],
   "source": [
    "plt.figure(figsize=(8,4))\n",
    "sns.countplot(x='Emotion', data=df_test);\n",
    "\n"
   ]
  },
  {
   "cell_type": "code",
   "execution_count": 27,
   "metadata": {
    "execution": {
     "iopub.execute_input": "2023-07-04T09:29:39.313650Z",
     "iopub.status.busy": "2023-07-04T09:29:39.313022Z",
     "iopub.status.idle": "2023-07-04T09:29:39.324629Z",
     "shell.execute_reply": "2023-07-04T09:29:39.323518Z",
     "shell.execute_reply.started": "2023-07-04T09:29:39.313608Z"
    }
   },
   "outputs": [
    {
     "data": {
      "text/plain": [
       "Text       0\n",
       "Emotion    0\n",
       "dtype: int64"
      ]
     },
     "execution_count": 27,
     "metadata": {},
     "output_type": "execute_result"
    }
   ],
   "source": [
    "#print the number of null values in each column\n",
    "df_test.isnull().sum()"
   ]
  },
  {
   "cell_type": "code",
   "execution_count": 28,
   "metadata": {
    "execution": {
     "iopub.execute_input": "2023-07-04T09:29:39.327346Z",
     "iopub.status.busy": "2023-07-04T09:29:39.326565Z",
     "iopub.status.idle": "2023-07-04T09:29:39.343157Z",
     "shell.execute_reply": "2023-07-04T09:29:39.342083Z",
     "shell.execute_reply.started": "2023-07-04T09:29:39.327293Z"
    }
   },
   "outputs": [
    {
     "data": {
      "text/plain": [
       "195"
      ]
     },
     "execution_count": 28,
     "metadata": {},
     "output_type": "execute_result"
    }
   ],
   "source": [
    "#print the number of duplicated values \n",
    "df_test.duplicated().sum()"
   ]
  },
  {
   "cell_type": "code",
   "execution_count": 29,
   "metadata": {
    "execution": {
     "iopub.execute_input": "2023-07-04T09:29:39.347215Z",
     "iopub.status.busy": "2023-07-04T09:29:39.346870Z",
     "iopub.status.idle": "2023-07-04T09:29:39.366617Z",
     "shell.execute_reply": "2023-07-04T09:29:39.365593Z",
     "shell.execute_reply.started": "2023-07-04T09:29:39.347184Z"
    }
   },
   "outputs": [
    {
     "data": {
      "text/html": [
       "<div>\n",
       "<style scoped>\n",
       "    .dataframe tbody tr th:only-of-type {\n",
       "        vertical-align: middle;\n",
       "    }\n",
       "\n",
       "    .dataframe tbody tr th {\n",
       "        vertical-align: top;\n",
       "    }\n",
       "\n",
       "    .dataframe thead th {\n",
       "        text-align: right;\n",
       "    }\n",
       "</style>\n",
       "<table border=\"1\" class=\"dataframe\">\n",
       "  <thead>\n",
       "    <tr style=\"text-align: right;\">\n",
       "      <th></th>\n",
       "      <th>Text</th>\n",
       "      <th>Emotion</th>\n",
       "    </tr>\n",
       "  </thead>\n",
       "  <tbody>\n",
       "    <tr>\n",
       "      <th>115</th>\n",
       "      <td>i feel so idiotic for letting you and myself c...</td>\n",
       "      <td>sadness</td>\n",
       "    </tr>\n",
       "    <tr>\n",
       "      <th>229</th>\n",
       "      <td>i say that feelings dont dull selectively</td>\n",
       "      <td>sadness</td>\n",
       "    </tr>\n",
       "    <tr>\n",
       "      <th>397</th>\n",
       "      <td>i was living with when i first started coming ...</td>\n",
       "      <td>joy</td>\n",
       "    </tr>\n",
       "    <tr>\n",
       "      <th>671</th>\n",
       "      <td>i really went to cut it i feel it s unfortunat...</td>\n",
       "      <td>sadness</td>\n",
       "    </tr>\n",
       "    <tr>\n",
       "      <th>727</th>\n",
       "      <td>i say nothing then i my feelings are hurt i fe...</td>\n",
       "      <td>sadness</td>\n",
       "    </tr>\n",
       "    <tr>\n",
       "      <th>...</th>\n",
       "      <td>...</td>\n",
       "      <td>...</td>\n",
       "    </tr>\n",
       "    <tr>\n",
       "      <th>4094</th>\n",
       "      <td>i feel doubly honoured because both river of a...</td>\n",
       "      <td>joy</td>\n",
       "    </tr>\n",
       "    <tr>\n",
       "      <th>4113</th>\n",
       "      <td>i know who all think this way so i ve always f...</td>\n",
       "      <td>fear</td>\n",
       "    </tr>\n",
       "    <tr>\n",
       "      <th>4128</th>\n",
       "      <td>i feel like a rebellious year old that stands ...</td>\n",
       "      <td>anger</td>\n",
       "    </tr>\n",
       "    <tr>\n",
       "      <th>4137</th>\n",
       "      <td>i was feeling really troubled and down over wh...</td>\n",
       "      <td>sadness</td>\n",
       "    </tr>\n",
       "    <tr>\n",
       "      <th>4141</th>\n",
       "      <td>i know that right before going into the psych ...</td>\n",
       "      <td>sadness</td>\n",
       "    </tr>\n",
       "  </tbody>\n",
       "</table>\n",
       "<p>198 rows × 2 columns</p>\n",
       "</div>"
      ],
      "text/plain": [
       "                                                   Text  Emotion\n",
       "115   i feel so idiotic for letting you and myself c...  sadness\n",
       "229           i say that feelings dont dull selectively  sadness\n",
       "397   i was living with when i first started coming ...      joy\n",
       "671   i really went to cut it i feel it s unfortunat...  sadness\n",
       "727   i say nothing then i my feelings are hurt i fe...  sadness\n",
       "...                                                 ...      ...\n",
       "4094  i feel doubly honoured because both river of a...      joy\n",
       "4113  i know who all think this way so i ve always f...     fear\n",
       "4128  i feel like a rebellious year old that stands ...    anger\n",
       "4137  i was feeling really troubled and down over wh...  sadness\n",
       "4141  i know that right before going into the psych ...  sadness\n",
       "\n",
       "[198 rows x 2 columns]"
      ]
     },
     "execution_count": 29,
     "metadata": {},
     "output_type": "execute_result"
    }
   ],
   "source": [
    "\n",
    "#print the rows which are duplicated\n",
    "df_test[df_test['Text'].duplicated() == True]\n",
    "\n"
   ]
  },
  {
   "cell_type": "code",
   "execution_count": 30,
   "metadata": {
    "execution": {
     "iopub.execute_input": "2023-07-04T09:29:39.369016Z",
     "iopub.status.busy": "2023-07-04T09:29:39.368334Z",
     "iopub.status.idle": "2023-07-04T09:29:39.418644Z",
     "shell.execute_reply": "2023-07-04T09:29:39.417538Z",
     "shell.execute_reply.started": "2023-07-04T09:29:39.368974Z"
    }
   },
   "outputs": [
    {
     "data": {
      "text/plain": [
       "6     387\n",
       "5     384\n",
       "7     383\n",
       "3     356\n",
       "8     338\n",
       "4     321\n",
       "9     278\n",
       "10    276\n",
       "2     261\n",
       "11    222\n",
       "12    180\n",
       "13    151\n",
       "1     111\n",
       "14    110\n",
       "15    103\n",
       "16     68\n",
       "17     66\n",
       "18     43\n",
       "19     27\n",
       "20     27\n",
       "0      24\n",
       "21     18\n",
       "22      6\n",
       "23      6\n",
       "25      1\n",
       "Name: stop_words, dtype: int64"
      ]
     },
     "execution_count": 30,
     "metadata": {},
     "output_type": "execute_result"
    }
   ],
   "source": [
    "#Count the number of stopwords in the data\n",
    "temp =df_test.copy()\n",
    "temp['stop_words'] = temp['Text'].apply(lambda x: len(set(x.split()) & set(stop_words)))\n",
    "temp.stop_words.value_counts()\n"
   ]
  },
  {
   "cell_type": "code",
   "execution_count": 31,
   "metadata": {
    "execution": {
     "iopub.execute_input": "2023-07-04T09:29:39.422587Z",
     "iopub.status.busy": "2023-07-04T09:29:39.422192Z",
     "iopub.status.idle": "2023-07-04T09:29:39.761620Z",
     "shell.execute_reply": "2023-07-04T09:29:39.760234Z",
     "shell.execute_reply.started": "2023-07-04T09:29:39.422555Z"
    }
   },
   "outputs": [
    {
     "data": {
      "text/plain": [
       "<Axes: ylabel='Frequency'>"
      ]
     },
     "execution_count": 31,
     "metadata": {},
     "output_type": "execute_result"
    },
    {
     "data": {
      "image/png": "[encoded data removed]",
      "text/plain": [
       "<Figure size 640x480 with 1 Axes>"
      ]
     },
     "metadata": {},
     "output_type": "display_data"
    }
   ],
   "source": [
    "sns.set(font_scale=1.3)\n",
    "temp['stop_words'].plot(kind= 'hist')"
   ]
  },
  {
   "cell_type": "markdown",
   "metadata": {},
   "source": [
    "## Validation dataset"
   ]
  },
  {
   "cell_type": "code",
   "execution_count": 32,
   "metadata": {
    "execution": {
     "iopub.execute_input": "2023-07-04T09:29:39.764043Z",
     "iopub.status.busy": "2023-07-04T09:29:39.763598Z",
     "iopub.status.idle": "2023-07-04T09:29:39.779441Z",
     "shell.execute_reply": "2023-07-04T09:29:39.778122Z",
     "shell.execute_reply.started": "2023-07-04T09:29:39.764000Z"
    }
   },
   "outputs": [
    {
     "data": {
      "text/plain": [
       "joy         1429\n",
       "sadness     1177\n",
       "fear         540\n",
       "anger        528\n",
       "love         322\n",
       "surprise     149\n",
       "Name: Emotion, dtype: int64"
      ]
     },
     "execution_count": 32,
     "metadata": {},
     "output_type": "execute_result"
    }
   ],
   "source": [
    "#check if the data is balanced or not\n",
    "df_val.Emotion.value_counts()"
   ]
  },
  {
   "cell_type": "code",
   "execution_count": 33,
   "metadata": {
    "execution": {
     "iopub.execute_input": "2023-07-04T09:29:39.783356Z",
     "iopub.status.busy": "2023-07-04T09:29:39.782977Z",
     "iopub.status.idle": "2023-07-04T09:29:40.060328Z",
     "shell.execute_reply": "2023-07-04T09:29:40.059196Z",
     "shell.execute_reply.started": "2023-07-04T09:29:39.783323Z"
    }
   },
   "outputs": [
    {
     "data": {
      "image/png": "[encoded data removed]",
      "text/plain": [
       "<Figure size 800x400 with 1 Axes>"
      ]
     },
     "metadata": {},
     "output_type": "display_data"
    }
   ],
   "source": [
    "plt.figure(figsize=(8,4))\n",
    "sns.countplot(x='Emotion', data=df_val);"
   ]
  },
  {
   "cell_type": "code",
   "execution_count": 34,
   "metadata": {
    "execution": {
     "iopub.execute_input": "2023-07-04T09:29:40.063215Z",
     "iopub.status.busy": "2023-07-04T09:29:40.062046Z",
     "iopub.status.idle": "2023-07-04T09:29:40.075257Z",
     "shell.execute_reply": "2023-07-04T09:29:40.074014Z",
     "shell.execute_reply.started": "2023-07-04T09:29:40.063169Z"
    }
   },
   "outputs": [
    {
     "data": {
      "text/plain": [
       "Text       0\n",
       "Emotion    0\n",
       "dtype: int64"
      ]
     },
     "execution_count": 34,
     "metadata": {},
     "output_type": "execute_result"
    }
   ],
   "source": [
    "#print the number of null values in each column\n",
    "df_val.isnull().sum()"
   ]
  },
  {
   "cell_type": "code",
   "execution_count": 35,
   "metadata": {
    "execution": {
     "iopub.execute_input": "2023-07-04T09:29:40.077860Z",
     "iopub.status.busy": "2023-07-04T09:29:40.077076Z",
     "iopub.status.idle": "2023-07-04T09:29:40.093256Z",
     "shell.execute_reply": "2023-07-04T09:29:40.091935Z",
     "shell.execute_reply.started": "2023-07-04T09:29:40.077817Z"
    }
   },
   "outputs": [
    {
     "data": {
      "text/plain": [
       "219"
      ]
     },
     "execution_count": 35,
     "metadata": {},
     "output_type": "execute_result"
    }
   ],
   "source": [
    "#print the number of duplicated values \n",
    "df_val.duplicated().sum()"
   ]
  },
  {
   "cell_type": "code",
   "execution_count": 36,
   "metadata": {
    "execution": {
     "iopub.execute_input": "2023-07-04T09:29:40.097725Z",
     "iopub.status.busy": "2023-07-04T09:29:40.096886Z",
     "iopub.status.idle": "2023-07-04T09:29:40.113187Z",
     "shell.execute_reply": "2023-07-04T09:29:40.111836Z",
     "shell.execute_reply.started": "2023-07-04T09:29:40.097686Z"
    }
   },
   "outputs": [
    {
     "data": {
      "text/html": [
       "<div>\n",
       "<style scoped>\n",
       "    .dataframe tbody tr th:only-of-type {\n",
       "        vertical-align: middle;\n",
       "    }\n",
       "\n",
       "    .dataframe tbody tr th {\n",
       "        vertical-align: top;\n",
       "    }\n",
       "\n",
       "    .dataframe thead th {\n",
       "        text-align: right;\n",
       "    }\n",
       "</style>\n",
       "<table border=\"1\" class=\"dataframe\">\n",
       "  <thead>\n",
       "    <tr style=\"text-align: right;\">\n",
       "      <th></th>\n",
       "      <th>Text</th>\n",
       "      <th>Emotion</th>\n",
       "    </tr>\n",
       "  </thead>\n",
       "  <tbody>\n",
       "    <tr>\n",
       "      <th>213</th>\n",
       "      <td>ive been feeling incredibly inadequate more so...</td>\n",
       "      <td>sadness</td>\n",
       "    </tr>\n",
       "    <tr>\n",
       "      <th>366</th>\n",
       "      <td>i was planning to make cookies this evening bu...</td>\n",
       "      <td>joy</td>\n",
       "    </tr>\n",
       "    <tr>\n",
       "      <th>421</th>\n",
       "      <td>i was part of the family and have a feeling of...</td>\n",
       "      <td>joy</td>\n",
       "    </tr>\n",
       "    <tr>\n",
       "      <th>438</th>\n",
       "      <td>i have a feeling she wasnt innocent in this</td>\n",
       "      <td>joy</td>\n",
       "    </tr>\n",
       "    <tr>\n",
       "      <th>494</th>\n",
       "      <td>i just didnt feel they got me which meant i wa...</td>\n",
       "      <td>fear</td>\n",
       "    </tr>\n",
       "    <tr>\n",
       "      <th>...</th>\n",
       "      <td>...</td>\n",
       "      <td>...</td>\n",
       "    </tr>\n",
       "    <tr>\n",
       "      <th>4115</th>\n",
       "      <td>i finally know what it feels like to be heartb...</td>\n",
       "      <td>sadness</td>\n",
       "    </tr>\n",
       "    <tr>\n",
       "      <th>4116</th>\n",
       "      <td>im feeling cranky cantankerous and resentful l...</td>\n",
       "      <td>anger</td>\n",
       "    </tr>\n",
       "    <tr>\n",
       "      <th>4123</th>\n",
       "      <td>i feel they look a little awkward just below</td>\n",
       "      <td>sadness</td>\n",
       "    </tr>\n",
       "    <tr>\n",
       "      <th>4137</th>\n",
       "      <td>i am not feeling more and more freaking relaxed</td>\n",
       "      <td>joy</td>\n",
       "    </tr>\n",
       "    <tr>\n",
       "      <th>4142</th>\n",
       "      <td>im postponing feeling virtuous about this labor</td>\n",
       "      <td>joy</td>\n",
       "    </tr>\n",
       "  </tbody>\n",
       "</table>\n",
       "<p>219 rows × 2 columns</p>\n",
       "</div>"
      ],
      "text/plain": [
       "                                                   Text  Emotion\n",
       "213   ive been feeling incredibly inadequate more so...  sadness\n",
       "366   i was planning to make cookies this evening bu...      joy\n",
       "421   i was part of the family and have a feeling of...      joy\n",
       "438         i have a feeling she wasnt innocent in this      joy\n",
       "494   i just didnt feel they got me which meant i wa...     fear\n",
       "...                                                 ...      ...\n",
       "4115  i finally know what it feels like to be heartb...  sadness\n",
       "4116  im feeling cranky cantankerous and resentful l...    anger\n",
       "4123       i feel they look a little awkward just below  sadness\n",
       "4137    i am not feeling more and more freaking relaxed      joy\n",
       "4142    im postponing feeling virtuous about this labor      joy\n",
       "\n",
       "[219 rows x 2 columns]"
      ]
     },
     "execution_count": 36,
     "metadata": {},
     "output_type": "execute_result"
    }
   ],
   "source": [
    "#print the rows which are duplicated\n",
    "df_val[df_val['Text'].duplicated() == True]"
   ]
  },
  {
   "cell_type": "code",
   "execution_count": 37,
   "metadata": {
    "execution": {
     "iopub.execute_input": "2023-07-04T09:29:40.115677Z",
     "iopub.status.busy": "2023-07-04T09:29:40.115118Z",
     "iopub.status.idle": "2023-07-04T09:29:40.130371Z",
     "shell.execute_reply": "2023-07-04T09:29:40.129256Z",
     "shell.execute_reply.started": "2023-07-04T09:29:40.115634Z"
    }
   },
   "outputs": [
    {
     "data": {
      "text/html": [
       "<div>\n",
       "<style scoped>\n",
       "    .dataframe tbody tr th:only-of-type {\n",
       "        vertical-align: middle;\n",
       "    }\n",
       "\n",
       "    .dataframe tbody tr th {\n",
       "        vertical-align: top;\n",
       "    }\n",
       "\n",
       "    .dataframe thead th {\n",
       "        text-align: right;\n",
       "    }\n",
       "</style>\n",
       "<table border=\"1\" class=\"dataframe\">\n",
       "  <thead>\n",
       "    <tr style=\"text-align: right;\">\n",
       "      <th></th>\n",
       "      <th>Text</th>\n",
       "      <th>Emotion</th>\n",
       "    </tr>\n",
       "  </thead>\n",
       "  <tbody>\n",
       "    <tr>\n",
       "      <th>603</th>\n",
       "      <td>i always feel stupid afterwards</td>\n",
       "      <td>sadness</td>\n",
       "    </tr>\n",
       "  </tbody>\n",
       "</table>\n",
       "</div>"
      ],
      "text/plain": [
       "                                Text  Emotion\n",
       "603  i always feel stupid afterwards  sadness"
      ]
     },
     "execution_count": 37,
     "metadata": {},
     "output_type": "execute_result"
    }
   ],
   "source": [
    "df_val[df_val['Text'] == df_val.iloc[603]['Text']]\n"
   ]
  },
  {
   "cell_type": "code",
   "execution_count": 38,
   "metadata": {
    "execution": {
     "iopub.execute_input": "2023-07-04T09:29:40.132982Z",
     "iopub.status.busy": "2023-07-04T09:29:40.132358Z",
     "iopub.status.idle": "2023-07-04T09:29:40.146979Z",
     "shell.execute_reply": "2023-07-04T09:29:40.145943Z",
     "shell.execute_reply.started": "2023-07-04T09:29:40.132931Z"
    }
   },
   "outputs": [
    {
     "data": {
      "text/html": [
       "<div>\n",
       "<style scoped>\n",
       "    .dataframe tbody tr th:only-of-type {\n",
       "        vertical-align: middle;\n",
       "    }\n",
       "\n",
       "    .dataframe tbody tr th {\n",
       "        vertical-align: top;\n",
       "    }\n",
       "\n",
       "    .dataframe thead th {\n",
       "        text-align: right;\n",
       "    }\n",
       "</style>\n",
       "<table border=\"1\" class=\"dataframe\">\n",
       "  <thead>\n",
       "    <tr style=\"text-align: right;\">\n",
       "      <th></th>\n",
       "      <th>Text</th>\n",
       "      <th>Emotion</th>\n",
       "    </tr>\n",
       "  </thead>\n",
       "  <tbody>\n",
       "    <tr>\n",
       "      <th>1993</th>\n",
       "      <td>i feel honored or insulted</td>\n",
       "      <td>joy</td>\n",
       "    </tr>\n",
       "  </tbody>\n",
       "</table>\n",
       "</div>"
      ],
      "text/plain": [
       "                            Text Emotion\n",
       "1993  i feel honored or insulted     joy"
      ]
     },
     "execution_count": 38,
     "metadata": {},
     "output_type": "execute_result"
    }
   ],
   "source": [
    "df_val[df_val['Text'] == df_val.iloc[1993]['Text']]\n"
   ]
  },
  {
   "cell_type": "code",
   "execution_count": 39,
   "metadata": {
    "execution": {
     "iopub.execute_input": "2023-07-04T09:29:40.149233Z",
     "iopub.status.busy": "2023-07-04T09:29:40.148512Z",
     "iopub.status.idle": "2023-07-04T09:29:40.161771Z",
     "shell.execute_reply": "2023-07-04T09:29:40.160305Z",
     "shell.execute_reply.started": "2023-07-04T09:29:40.149189Z"
    }
   },
   "outputs": [
    {
     "name": "stderr",
     "output_type": "stream",
     "text": [
      "/var/folders/hz/lcq0rx_90gq0lk9rm64pkzth0000gn/T/ipykernel_24926/2869941417.py:3: SettingWithCopyWarning: \n",
      "A value is trying to be set on a copy of a slice from a DataFrame\n",
      "\n",
      "See the caveats in the documentation: https://pandas.pydata.org/pandas-docs/stable/user_guide/indexing.html#returning-a-view-versus-a-copy\n",
      "  df_val.drop(index, axis = 0, inplace = True)\n"
     ]
    }
   ],
   "source": [
    "#removing duplicated text\n",
    "index = df_val[df_val['Text'].duplicated() == True].index\n",
    "df_val.drop(index, axis = 0, inplace = True)\n",
    "df_val.reset_index(inplace=True, drop = True)"
   ]
  },
  {
   "cell_type": "code",
   "execution_count": 40,
   "metadata": {
    "execution": {
     "iopub.execute_input": "2023-07-04T09:29:40.164942Z",
     "iopub.status.busy": "2023-07-04T09:29:40.164126Z",
     "iopub.status.idle": "2023-07-04T09:29:40.215549Z",
     "shell.execute_reply": "2023-07-04T09:29:40.214397Z",
     "shell.execute_reply.started": "2023-07-04T09:29:40.164885Z"
    }
   },
   "outputs": [
    {
     "data": {
      "text/plain": [
       "7     353\n",
       "5     347\n",
       "4     329\n",
       "6     319\n",
       "8     311\n",
       "9     301\n",
       "3     289\n",
       "10    277\n",
       "2     245\n",
       "11    222\n",
       "Name: stop_words, dtype: int64"
      ]
     },
     "execution_count": 40,
     "metadata": {},
     "output_type": "execute_result"
    }
   ],
   "source": [
    "#Count the number of stopwords in the data\n",
    "temp =df_val.copy()\n",
    "temp['stop_words'] = temp['Text'].apply(lambda x: len(set(x.split()) & set(stop_words)))\n",
    "temp.stop_words.value_counts()[:10]\n"
   ]
  },
  {
   "cell_type": "code",
   "execution_count": 41,
   "metadata": {
    "execution": {
     "iopub.execute_input": "2023-07-04T09:29:40.218047Z",
     "iopub.status.busy": "2023-07-04T09:29:40.217339Z",
     "iopub.status.idle": "2023-07-04T09:29:40.541305Z",
     "shell.execute_reply": "2023-07-04T09:29:40.540193Z",
     "shell.execute_reply.started": "2023-07-04T09:29:40.218003Z"
    }
   },
   "outputs": [
    {
     "data": {
      "image/png": "[encoded data removed]",
      "text/plain": [
       "<Figure size 640x480 with 1 Axes>"
      ]
     },
     "metadata": {},
     "output_type": "display_data"
    }
   ],
   "source": [
    "sns.set(font_scale=1.3)\n",
    "temp['stop_words'].plot(kind= 'hist');"
   ]
  },
  {
   "cell_type": "code",
   "execution_count": 42,
   "metadata": {
    "execution": {
     "iopub.execute_input": "2023-07-04T09:29:40.544719Z",
     "iopub.status.busy": "2023-07-04T09:29:40.544386Z",
     "iopub.status.idle": "2023-07-04T09:29:40.552878Z",
     "shell.execute_reply": "2023-07-04T09:29:40.551484Z",
     "shell.execute_reply.started": "2023-07-04T09:29:40.544687Z"
    }
   },
   "outputs": [],
   "source": [
    "def dataframe_difference(df1, df2, which=None):\n",
    "    \"\"\"Find rows which are different between two DataFrames.\"\"\"\n",
    "    \n",
    "    # Combine the two DataFrames using a merge operation, with the\n",
    "    # indicator parameter set to True. This adds a column called _merge\n",
    "    # to the resulting DataFrame, which indicates the source of each row.\n",
    "    comparison_df = df1.merge(\n",
    "        df2,\n",
    "        indicator=True,\n",
    "        how='outer'\n",
    "    )\n",
    "    \n",
    "    # Filter the merged DataFrame based on the value of _merge. If which\n",
    "    # is not specified, return all rows where _merge is not 'both'.\n",
    "    # Otherwise, return all rows where _merge has the specified value\n",
    "    if which is None:\n",
    "        diff_df = comparison_df[comparison_df['_merge'] != 'both']\n",
    "    else:\n",
    "        diff_df = comparison_df[comparison_df['_merge'] == which]\n",
    "        \n",
    "    # Return the filtered DataFrame\n",
    "    return diff_df"
   ]
  },
  {
   "cell_type": "code",
   "execution_count": 43,
   "metadata": {
    "execution": {
     "iopub.execute_input": "2023-07-04T09:29:40.555477Z",
     "iopub.status.busy": "2023-07-04T09:29:40.555067Z",
     "iopub.status.idle": "2023-07-04T09:29:40.609236Z",
     "shell.execute_reply": "2023-07-04T09:29:40.608154Z",
     "shell.execute_reply.started": "2023-07-04T09:29:40.555436Z"
    }
   },
   "outputs": [
    {
     "data": {
      "text/html": [
       "<div>\n",
       "<style scoped>\n",
       "    .dataframe tbody tr th:only-of-type {\n",
       "        vertical-align: middle;\n",
       "    }\n",
       "\n",
       "    .dataframe tbody tr th {\n",
       "        vertical-align: top;\n",
       "    }\n",
       "\n",
       "    .dataframe thead th {\n",
       "        text-align: right;\n",
       "    }\n",
       "</style>\n",
       "<table border=\"1\" class=\"dataframe\">\n",
       "  <thead>\n",
       "    <tr style=\"text-align: right;\">\n",
       "      <th></th>\n",
       "      <th>Text</th>\n",
       "      <th>Emotion</th>\n",
       "      <th>_merge</th>\n",
       "    </tr>\n",
       "  </thead>\n",
       "  <tbody>\n",
       "    <tr>\n",
       "      <th>2</th>\n",
       "      <td>i wasnt feeling very optimistic but this would...</td>\n",
       "      <td>joy</td>\n",
       "      <td>both</td>\n",
       "    </tr>\n",
       "    <tr>\n",
       "      <th>6</th>\n",
       "      <td>i feel like that would be pretty cool</td>\n",
       "      <td>joy</td>\n",
       "      <td>both</td>\n",
       "    </tr>\n",
       "    <tr>\n",
       "      <th>21</th>\n",
       "      <td>i cant help but feel amused hmm</td>\n",
       "      <td>joy</td>\n",
       "      <td>both</td>\n",
       "    </tr>\n",
       "    <tr>\n",
       "      <th>22</th>\n",
       "      <td>i have no idea why but i get gastric pain when...</td>\n",
       "      <td>anger</td>\n",
       "      <td>both</td>\n",
       "    </tr>\n",
       "    <tr>\n",
       "      <th>24</th>\n",
       "      <td>i feel like ive shaken off some of the funk th...</td>\n",
       "      <td>fear</td>\n",
       "      <td>both</td>\n",
       "    </tr>\n",
       "    <tr>\n",
       "      <th>...</th>\n",
       "      <td>...</td>\n",
       "      <td>...</td>\n",
       "      <td>...</td>\n",
       "    </tr>\n",
       "    <tr>\n",
       "      <th>20289</th>\n",
       "      <td>i feel only reason skudrive is so popular is b...</td>\n",
       "      <td>joy</td>\n",
       "      <td>both</td>\n",
       "    </tr>\n",
       "    <tr>\n",
       "      <th>20297</th>\n",
       "      <td>i said earlier our bodies have gotten used to ...</td>\n",
       "      <td>joy</td>\n",
       "      <td>both</td>\n",
       "    </tr>\n",
       "    <tr>\n",
       "      <th>20298</th>\n",
       "      <td>i feel irritable or depressed during the cours...</td>\n",
       "      <td>anger</td>\n",
       "      <td>both</td>\n",
       "    </tr>\n",
       "    <tr>\n",
       "      <th>20299</th>\n",
       "      <td>i hope you do because otherwise your wife will...</td>\n",
       "      <td>sadness</td>\n",
       "      <td>both</td>\n",
       "    </tr>\n",
       "    <tr>\n",
       "      <th>20303</th>\n",
       "      <td>i like to show the homeowners these catalogs t...</td>\n",
       "      <td>sadness</td>\n",
       "      <td>both</td>\n",
       "    </tr>\n",
       "  </tbody>\n",
       "</table>\n",
       "<p>3192 rows × 3 columns</p>\n",
       "</div>"
      ],
      "text/plain": [
       "                                                    Text  Emotion _merge\n",
       "2      i wasnt feeling very optimistic but this would...      joy   both\n",
       "6                  i feel like that would be pretty cool      joy   both\n",
       "21                       i cant help but feel amused hmm      joy   both\n",
       "22     i have no idea why but i get gastric pain when...    anger   both\n",
       "24     i feel like ive shaken off some of the funk th...     fear   both\n",
       "...                                                  ...      ...    ...\n",
       "20289  i feel only reason skudrive is so popular is b...      joy   both\n",
       "20297  i said earlier our bodies have gotten used to ...      joy   both\n",
       "20298  i feel irritable or depressed during the cours...    anger   both\n",
       "20299  i hope you do because otherwise your wife will...  sadness   both\n",
       "20303  i like to show the homeowners these catalogs t...  sadness   both\n",
       "\n",
       "[3192 rows x 3 columns]"
      ]
     },
     "execution_count": 43,
     "metadata": {},
     "output_type": "execute_result"
    }
   ],
   "source": [
    "dataframe_difference(df_train, df_test, which='both')"
   ]
  },
  {
   "cell_type": "code",
   "execution_count": 44,
   "metadata": {
    "execution": {
     "iopub.execute_input": "2023-07-04T09:29:40.613555Z",
     "iopub.status.busy": "2023-07-04T09:29:40.610744Z",
     "iopub.status.idle": "2023-07-04T09:29:40.663835Z",
     "shell.execute_reply": "2023-07-04T09:29:40.662750Z",
     "shell.execute_reply.started": "2023-07-04T09:29:40.613508Z"
    }
   },
   "outputs": [
    {
     "data": {
      "text/html": [
       "<div>\n",
       "<style scoped>\n",
       "    .dataframe tbody tr th:only-of-type {\n",
       "        vertical-align: middle;\n",
       "    }\n",
       "\n",
       "    .dataframe tbody tr th {\n",
       "        vertical-align: top;\n",
       "    }\n",
       "\n",
       "    .dataframe thead th {\n",
       "        text-align: right;\n",
       "    }\n",
       "</style>\n",
       "<table border=\"1\" class=\"dataframe\">\n",
       "  <thead>\n",
       "    <tr style=\"text-align: right;\">\n",
       "      <th></th>\n",
       "      <th>Text</th>\n",
       "      <th>Emotion</th>\n",
       "      <th>_merge</th>\n",
       "    </tr>\n",
       "  </thead>\n",
       "  <tbody>\n",
       "    <tr>\n",
       "      <th>18</th>\n",
       "      <td>i feel reluctant to supply this motion picture...</td>\n",
       "      <td>fear</td>\n",
       "      <td>both</td>\n",
       "    </tr>\n",
       "    <tr>\n",
       "      <th>26</th>\n",
       "      <td>i stand here i feel empty a class post count l...</td>\n",
       "      <td>sadness</td>\n",
       "      <td>both</td>\n",
       "    </tr>\n",
       "    <tr>\n",
       "      <th>27</th>\n",
       "      <td>i visit m ller in my country and go to the exp...</td>\n",
       "      <td>fear</td>\n",
       "      <td>both</td>\n",
       "    </tr>\n",
       "    <tr>\n",
       "      <th>56</th>\n",
       "      <td>i feel as if i must blog constantly for all my...</td>\n",
       "      <td>love</td>\n",
       "      <td>both</td>\n",
       "    </tr>\n",
       "    <tr>\n",
       "      <th>58</th>\n",
       "      <td>i feel very glad as in facebook we have many c...</td>\n",
       "      <td>joy</td>\n",
       "      <td>both</td>\n",
       "    </tr>\n",
       "    <tr>\n",
       "      <th>...</th>\n",
       "      <td>...</td>\n",
       "      <td>...</td>\n",
       "      <td>...</td>\n",
       "    </tr>\n",
       "    <tr>\n",
       "      <th>20294</th>\n",
       "      <td>i feel like i tend be more passionate about th...</td>\n",
       "      <td>joy</td>\n",
       "      <td>both</td>\n",
       "    </tr>\n",
       "    <tr>\n",
       "      <th>20295</th>\n",
       "      <td>i feel she said quickly i am so glad</td>\n",
       "      <td>joy</td>\n",
       "      <td>both</td>\n",
       "    </tr>\n",
       "    <tr>\n",
       "      <th>20300</th>\n",
       "      <td>i feel pathetic as if i have no meaning</td>\n",
       "      <td>sadness</td>\n",
       "      <td>both</td>\n",
       "    </tr>\n",
       "    <tr>\n",
       "      <th>20302</th>\n",
       "      <td>i hope you can feel the presence of loved ones...</td>\n",
       "      <td>love</td>\n",
       "      <td>both</td>\n",
       "    </tr>\n",
       "    <tr>\n",
       "      <th>20304</th>\n",
       "      <td>i feel about colors shades needing to match ex...</td>\n",
       "      <td>joy</td>\n",
       "      <td>both</td>\n",
       "    </tr>\n",
       "  </tbody>\n",
       "</table>\n",
       "<p>3157 rows × 3 columns</p>\n",
       "</div>"
      ],
      "text/plain": [
       "                                                    Text  Emotion _merge\n",
       "18     i feel reluctant to supply this motion picture...     fear   both\n",
       "26     i stand here i feel empty a class post count l...  sadness   both\n",
       "27     i visit m ller in my country and go to the exp...     fear   both\n",
       "56     i feel as if i must blog constantly for all my...     love   both\n",
       "58     i feel very glad as in facebook we have many c...      joy   both\n",
       "...                                                  ...      ...    ...\n",
       "20294  i feel like i tend be more passionate about th...      joy   both\n",
       "20295               i feel she said quickly i am so glad      joy   both\n",
       "20300            i feel pathetic as if i have no meaning  sadness   both\n",
       "20302  i hope you can feel the presence of loved ones...     love   both\n",
       "20304  i feel about colors shades needing to match ex...      joy   both\n",
       "\n",
       "[3157 rows x 3 columns]"
      ]
     },
     "execution_count": 44,
     "metadata": {},
     "output_type": "execute_result"
    }
   ],
   "source": [
    "dataframe_difference(df_train, df_val, which='both')"
   ]
  },
  {
   "cell_type": "code",
   "execution_count": 45,
   "metadata": {
    "execution": {
     "iopub.execute_input": "2023-07-04T09:29:40.669470Z",
     "iopub.status.busy": "2023-07-04T09:29:40.665121Z",
     "iopub.status.idle": "2023-07-04T09:29:40.702997Z",
     "shell.execute_reply": "2023-07-04T09:29:40.701743Z",
     "shell.execute_reply.started": "2023-07-04T09:29:40.669433Z"
    }
   },
   "outputs": [
    {
     "data": {
      "text/html": [
       "<div>\n",
       "<style scoped>\n",
       "    .dataframe tbody tr th:only-of-type {\n",
       "        vertical-align: middle;\n",
       "    }\n",
       "\n",
       "    .dataframe tbody tr th {\n",
       "        vertical-align: top;\n",
       "    }\n",
       "\n",
       "    .dataframe thead th {\n",
       "        text-align: right;\n",
       "    }\n",
       "</style>\n",
       "<table border=\"1\" class=\"dataframe\">\n",
       "  <thead>\n",
       "    <tr style=\"text-align: right;\">\n",
       "      <th></th>\n",
       "      <th>Text</th>\n",
       "      <th>Emotion</th>\n",
       "      <th>_merge</th>\n",
       "    </tr>\n",
       "  </thead>\n",
       "  <tbody>\n",
       "    <tr>\n",
       "      <th>4</th>\n",
       "      <td>i feel extremely lost right now</td>\n",
       "      <td>sadness</td>\n",
       "      <td>both</td>\n",
       "    </tr>\n",
       "    <tr>\n",
       "      <th>17</th>\n",
       "      <td>i keep feeling weird sensations img src http s</td>\n",
       "      <td>fear</td>\n",
       "      <td>both</td>\n",
       "    </tr>\n",
       "    <tr>\n",
       "      <th>18</th>\n",
       "      <td>i found myself agreeing with a lot of her thou...</td>\n",
       "      <td>joy</td>\n",
       "      <td>both</td>\n",
       "    </tr>\n",
       "    <tr>\n",
       "      <th>20</th>\n",
       "      <td>i don t feel like i m a valuable person</td>\n",
       "      <td>joy</td>\n",
       "      <td>both</td>\n",
       "    </tr>\n",
       "    <tr>\n",
       "      <th>46</th>\n",
       "      <td>i am nowhere perfect but i feel helpless to sa...</td>\n",
       "      <td>sadness</td>\n",
       "      <td>both</td>\n",
       "    </tr>\n",
       "    <tr>\n",
       "      <th>...</th>\n",
       "      <td>...</td>\n",
       "      <td>...</td>\n",
       "      <td>...</td>\n",
       "    </tr>\n",
       "    <tr>\n",
       "      <th>3894</th>\n",
       "      <td>i to feel sympathetic about the children of th...</td>\n",
       "      <td>love</td>\n",
       "      <td>both</td>\n",
       "    </tr>\n",
       "    <tr>\n",
       "      <th>3897</th>\n",
       "      <td>i have only a few short weeks here and im feel...</td>\n",
       "      <td>sadness</td>\n",
       "      <td>both</td>\n",
       "    </tr>\n",
       "    <tr>\n",
       "      <th>3898</th>\n",
       "      <td>im feeling frantic because ive had no sleep</td>\n",
       "      <td>fear</td>\n",
       "      <td>both</td>\n",
       "    </tr>\n",
       "    <tr>\n",
       "      <th>3918</th>\n",
       "      <td>i feel like i ve been put in a bag and shaken ...</td>\n",
       "      <td>fear</td>\n",
       "      <td>both</td>\n",
       "    </tr>\n",
       "    <tr>\n",
       "      <th>3924</th>\n",
       "      <td>ive been medicated today but i feel funny</td>\n",
       "      <td>surprise</td>\n",
       "      <td>both</td>\n",
       "    </tr>\n",
       "  </tbody>\n",
       "</table>\n",
       "<p>404 rows × 3 columns</p>\n",
       "</div>"
      ],
      "text/plain": [
       "                                                   Text   Emotion _merge\n",
       "4                       i feel extremely lost right now   sadness   both\n",
       "17       i keep feeling weird sensations img src http s      fear   both\n",
       "18    i found myself agreeing with a lot of her thou...       joy   both\n",
       "20              i don t feel like i m a valuable person       joy   both\n",
       "46    i am nowhere perfect but i feel helpless to sa...   sadness   both\n",
       "...                                                 ...       ...    ...\n",
       "3894  i to feel sympathetic about the children of th...      love   both\n",
       "3897  i have only a few short weeks here and im feel...   sadness   both\n",
       "3898        im feeling frantic because ive had no sleep      fear   both\n",
       "3918  i feel like i ve been put in a bag and shaken ...      fear   both\n",
       "3924          ive been medicated today but i feel funny  surprise   both\n",
       "\n",
       "[404 rows x 3 columns]"
      ]
     },
     "execution_count": 45,
     "metadata": {},
     "output_type": "execute_result"
    }
   ],
   "source": [
    "dataframe_difference(df_val, df_test, which='both')"
   ]
  },
  {
   "cell_type": "code",
   "execution_count": 46,
   "metadata": {
    "execution": {
     "iopub.execute_input": "2023-07-04T09:29:40.705555Z",
     "iopub.status.busy": "2023-07-04T09:29:40.705107Z",
     "iopub.status.idle": "2023-07-04T09:29:40.724659Z",
     "shell.execute_reply": "2023-07-04T09:29:40.723304Z",
     "shell.execute_reply.started": "2023-07-04T09:29:40.705513Z"
    }
   },
   "outputs": [],
   "source": [
    "def lemmatization(text):\n",
    "    lemmatizer= WordNetLemmatizer()\n",
    "\n",
    "    text = text.split()\n",
    "\n",
    "    text=[lemmatizer.lemmatize(y) for y in text]\n",
    "    \n",
    "    return \" \" .join(text)\n",
    "\n",
    "def remove_stop_words(text):\n",
    "\n",
    "    Text=[i for i in str(text).split() if i not in stop_words]\n",
    "    return \" \".join(Text)\n",
    "\n",
    "def Removing_numbers(text):\n",
    "    text=''.join([i for i in text if not i.isdigit()])\n",
    "    return text\n",
    "\n",
    "def lower_case(text):\n",
    "    \n",
    "    text = text.split()\n",
    "\n",
    "    text=[y.lower() for y in text]\n",
    "    \n",
    "    return \" \" .join(text)\n",
    "\n",
    "def Removing_punctuations(text):\n",
    "    ## Remove punctuations\n",
    "    text = re.sub('[%s]' % re.escape(\"\"\"!\"#$%&'()*+,،-./:;<=>؟?@[\\]^_`{|}~\"\"\"), ' ', text)\n",
    "    text = text.replace('؛',\"\", )\n",
    "    \n",
    "    ## remove extra whitespace\n",
    "    text = re.sub('\\s+', ' ', text)\n",
    "    text =  \" \".join(text.split())\n",
    "    return text.strip()\n",
    "\n",
    "def Removing_urls(text):\n",
    "    url_pattern = re.compile(r'https?://\\S+|www\\.\\S+')\n",
    "    return url_pattern.sub(r'', text)\n",
    "\n",
    "def remove_small_sentences(df):\n",
    "    for i in range(len(df)):\n",
    "        if len(df.text.iloc[i].split()) < 3:\n",
    "            df.text.iloc[i] = np.nan\n",
    "            \n",
    "def normalize_text(df):\n",
    "    df.Text=df.Text.apply(lambda text : lower_case(text))\n",
    "    df.Text=df.Text.apply(lambda text : remove_stop_words(text))\n",
    "    df.Text=df.Text.apply(lambda text : Removing_numbers(text))\n",
    "    df.Text=df.Text.apply(lambda text : Removing_punctuations(text))\n",
    "    df.Text=df.Text.apply(lambda text : Removing_urls(text))\n",
    "    df.Text=df.Text.apply(lambda text : lemmatization(text))\n",
    "    return df\n",
    "\n",
    "def normalized_sentence(sentence):\n",
    "    sentence= lower_case(sentence)\n",
    "    sentence= remove_stop_words(sentence)\n",
    "    sentence= Removing_numbers(sentence)\n",
    "    sentence= Removing_punctuations(sentence)\n",
    "    sentence= Removing_urls(sentence)\n",
    "    sentence= lemmatization(sentence)\n",
    "    return sentence\n",
    "\n",
    "    "
   ]
  },
  {
   "cell_type": "code",
   "execution_count": 47,
   "metadata": {
    "execution": {
     "iopub.execute_input": "2023-07-04T09:29:40.727651Z",
     "iopub.status.busy": "2023-07-04T09:29:40.726606Z",
     "iopub.status.idle": "2023-07-04T09:29:43.708292Z",
     "shell.execute_reply": "2023-07-04T09:29:43.706860Z",
     "shell.execute_reply.started": "2023-07-04T09:29:40.727605Z"
    }
   },
   "outputs": [
    {
     "name": "stderr",
     "output_type": "stream",
     "text": [
      "/var/folders/hz/lcq0rx_90gq0lk9rm64pkzth0000gn/T/ipykernel_24926/3225203475.py:47: SettingWithCopyWarning: \n",
      "A value is trying to be set on a copy of a slice from a DataFrame.\n",
      "Try using .loc[row_indexer,col_indexer] = value instead\n",
      "\n",
      "See the caveats in the documentation: https://pandas.pydata.org/pandas-docs/stable/user_guide/indexing.html#returning-a-view-versus-a-copy\n",
      "  df.Text=df.Text.apply(lambda text : lower_case(text))\n",
      "/var/folders/hz/lcq0rx_90gq0lk9rm64pkzth0000gn/T/ipykernel_24926/3225203475.py:48: SettingWithCopyWarning: \n",
      "A value is trying to be set on a copy of a slice from a DataFrame.\n",
      "Try using .loc[row_indexer,col_indexer] = value instead\n",
      "\n",
      "See the caveats in the documentation: https://pandas.pydata.org/pandas-docs/stable/user_guide/indexing.html#returning-a-view-versus-a-copy\n",
      "  df.Text=df.Text.apply(lambda text : remove_stop_words(text))\n",
      "/var/folders/hz/lcq0rx_90gq0lk9rm64pkzth0000gn/T/ipykernel_24926/3225203475.py:49: SettingWithCopyWarning: \n",
      "A value is trying to be set on a copy of a slice from a DataFrame.\n",
      "Try using .loc[row_indexer,col_indexer] = value instead\n",
      "\n",
      "See the caveats in the documentation: https://pandas.pydata.org/pandas-docs/stable/user_guide/indexing.html#returning-a-view-versus-a-copy\n",
      "  df.Text=df.Text.apply(lambda text : Removing_numbers(text))\n",
      "/var/folders/hz/lcq0rx_90gq0lk9rm64pkzth0000gn/T/ipykernel_24926/3225203475.py:50: SettingWithCopyWarning: \n",
      "A value is trying to be set on a copy of a slice from a DataFrame.\n",
      "Try using .loc[row_indexer,col_indexer] = value instead\n",
      "\n",
      "See the caveats in the documentation: https://pandas.pydata.org/pandas-docs/stable/user_guide/indexing.html#returning-a-view-versus-a-copy\n",
      "  df.Text=df.Text.apply(lambda text : Removing_punctuations(text))\n",
      "/var/folders/hz/lcq0rx_90gq0lk9rm64pkzth0000gn/T/ipykernel_24926/3225203475.py:51: SettingWithCopyWarning: \n",
      "A value is trying to be set on a copy of a slice from a DataFrame.\n",
      "Try using .loc[row_indexer,col_indexer] = value instead\n",
      "\n",
      "See the caveats in the documentation: https://pandas.pydata.org/pandas-docs/stable/user_guide/indexing.html#returning-a-view-versus-a-copy\n",
      "  df.Text=df.Text.apply(lambda text : Removing_urls(text))\n",
      "/var/folders/hz/lcq0rx_90gq0lk9rm64pkzth0000gn/T/ipykernel_24926/3225203475.py:52: SettingWithCopyWarning: \n",
      "A value is trying to be set on a copy of a slice from a DataFrame.\n",
      "Try using .loc[row_indexer,col_indexer] = value instead\n",
      "\n",
      "See the caveats in the documentation: https://pandas.pydata.org/pandas-docs/stable/user_guide/indexing.html#returning-a-view-versus-a-copy\n",
      "  df.Text=df.Text.apply(lambda text : lemmatization(text))\n"
     ]
    }
   ],
   "source": [
    "df_train= normalize_text(df_train)\n",
    "df_test= normalize_text(df_test)\n",
    "df_val= normalize_text(df_val)"
   ]
  },
  {
   "cell_type": "code",
   "execution_count": 48,
   "metadata": {
    "execution": {
     "iopub.execute_input": "2023-07-04T09:29:43.710442Z",
     "iopub.status.busy": "2023-07-04T09:29:43.709952Z",
     "iopub.status.idle": "2023-07-04T09:29:43.719889Z",
     "shell.execute_reply": "2023-07-04T09:29:43.718471Z",
     "shell.execute_reply.started": "2023-07-04T09:29:43.710395Z"
    }
   },
   "outputs": [],
   "source": [
    "#Preprocess text\n",
    "X_train = df_train['Text'].values\n",
    "y_train = df_train['Emotion'].values\n",
    "\n",
    "X_test = df_test['Text'].values\n",
    "y_test = df_test['Emotion'].values\n",
    "\n",
    "X_val = df_val['Text'].values\n",
    "y_val = df_val['Emotion'].values"
   ]
  },
  {
   "cell_type": "code",
   "execution_count": 49,
   "metadata": {
    "execution": {
     "iopub.execute_input": "2023-07-04T09:29:43.722508Z",
     "iopub.status.busy": "2023-07-04T09:29:43.721818Z",
     "iopub.status.idle": "2023-07-04T09:29:43.735184Z",
     "shell.execute_reply": "2023-07-04T09:29:43.734123Z",
     "shell.execute_reply.started": "2023-07-04T09:29:43.722463Z"
    }
   },
   "outputs": [],
   "source": [
    "def train_model(model, data, targets):\n",
    "    \"\"\"\n",
    "    Train a model on the given data and targets.\n",
    "    \n",
    "    Parameters:\n",
    "    model (sklearn model): The model to be trained.\n",
    "    data (list of str): The input data.\n",
    "    targets (list of str): The targets.\n",
    "    \n",
    "    Returns:\n",
    "    Pipeline: The trained model as a Pipeline object.\n",
    "    \"\"\"\n",
    "    # Create a Pipeline object with a TfidfVectorizer and the given model\n",
    "    text_clf = Pipeline([('vect',TfidfVectorizer()),\n",
    "                         ('clf', model)])\n",
    "    # Fit the model on the data and targets\n",
    "    text_clf.fit(data, targets)\n",
    "    return text_clf"
   ]
  },
  {
   "cell_type": "code",
   "execution_count": 50,
   "metadata": {
    "execution": {
     "iopub.execute_input": "2023-07-04T09:29:43.737997Z",
     "iopub.status.busy": "2023-07-04T09:29:43.737093Z",
     "iopub.status.idle": "2023-07-04T09:29:43.746825Z",
     "shell.execute_reply": "2023-07-04T09:29:43.745789Z",
     "shell.execute_reply.started": "2023-07-04T09:29:43.737956Z"
    }
   },
   "outputs": [],
   "source": [
    "def get_F1(trained_model,X,y):\n",
    "    \"\"\"\n",
    "    Get the F1 score for the given model on the given data and targets.\n",
    "    \n",
    "    Parameters:\n",
    "    trained_model (sklearn model): The trained model.\n",
    "    X (list of str): The input data.\n",
    "    y (list of str): The targets.\n",
    "    \n",
    "    Returns:\n",
    "    array: The F1 score for each class.\n",
    "    \"\"\"\n",
    "    # Make predictions on the input data using the trained model\n",
    "    predicted=trained_model.predict(X)\n",
    "    # Calculate the F1 score for the predictions\n",
    "    f1=f1_score(y,predicted, average=None)\n",
    "    # Return the F1 score\n",
    "    return f1"
   ]
  },
  {
   "cell_type": "markdown",
   "metadata": {},
   "source": [
    "Logistic Regression Model"
   ]
  },
  {
   "cell_type": "code",
   "execution_count": 51,
   "metadata": {
    "execution": {
     "iopub.execute_input": "2023-07-04T09:29:43.749386Z",
     "iopub.status.busy": "2023-07-04T09:29:43.748425Z",
     "iopub.status.idle": "2023-07-04T09:29:44.979785Z",
     "shell.execute_reply": "2023-07-04T09:29:44.978056Z",
     "shell.execute_reply.started": "2023-07-04T09:29:43.749346Z"
    }
   },
   "outputs": [],
   "source": [
    "#Train the model with the training data\n",
    "log_reg = train_model(LogisticRegression(solver='liblinear',random_state = 0), X_train, y_train)"
   ]
  },
  {
   "cell_type": "code",
   "execution_count": 52,
   "metadata": {
    "execution": {
     "iopub.execute_input": "2023-07-04T09:29:44.982705Z",
     "iopub.status.busy": "2023-07-04T09:29:44.981769Z",
     "iopub.status.idle": "2023-07-04T09:29:44.994637Z",
     "shell.execute_reply": "2023-07-04T09:29:44.993473Z",
     "shell.execute_reply.started": "2023-07-04T09:29:44.982655Z"
    }
   },
   "outputs": [
    {
     "data": {
      "text/plain": [
       "array(['joy'], dtype=object)"
      ]
     },
     "execution_count": 52,
     "metadata": {},
     "output_type": "execute_result"
    }
   ],
   "source": [
    "#Make a single prediction\n",
    "y_pred=log_reg.predict(['Happy'])\n",
    "y_pred"
   ]
  },
  {
   "cell_type": "code",
   "execution_count": 53,
   "metadata": {
    "execution": {
     "iopub.execute_input": "2023-07-04T09:29:44.997683Z",
     "iopub.status.busy": "2023-07-04T09:29:44.996873Z",
     "iopub.status.idle": "2023-07-04T09:29:45.263890Z",
     "shell.execute_reply": "2023-07-04T09:29:45.262605Z",
     "shell.execute_reply.started": "2023-07-04T09:29:44.997637Z"
    }
   },
   "outputs": [
    {
     "name": "stdout",
     "output_type": "stream",
     "text": [
      "Accuracy:  0.911984567156981 \n",
      "\n"
     ]
    },
    {
     "data": {
      "text/html": [
       "<div>\n",
       "<style scoped>\n",
       "    .dataframe tbody tr th:only-of-type {\n",
       "        vertical-align: middle;\n",
       "    }\n",
       "\n",
       "    .dataframe tbody tr th {\n",
       "        vertical-align: top;\n",
       "    }\n",
       "\n",
       "    .dataframe thead th {\n",
       "        text-align: right;\n",
       "    }\n",
       "</style>\n",
       "<table border=\"1\" class=\"dataframe\">\n",
       "  <thead>\n",
       "    <tr style=\"text-align: right;\">\n",
       "      <th></th>\n",
       "      <th>F1 score</th>\n",
       "    </tr>\n",
       "  </thead>\n",
       "  <tbody>\n",
       "    <tr>\n",
       "      <th>joy</th>\n",
       "      <td>0.906690</td>\n",
       "    </tr>\n",
       "    <tr>\n",
       "      <th>sadness</th>\n",
       "      <td>0.883770</td>\n",
       "    </tr>\n",
       "    <tr>\n",
       "      <th>anger</th>\n",
       "      <td>0.933060</td>\n",
       "    </tr>\n",
       "    <tr>\n",
       "      <th>fear</th>\n",
       "      <td>0.818182</td>\n",
       "    </tr>\n",
       "    <tr>\n",
       "      <th>love</th>\n",
       "      <td>0.939886</td>\n",
       "    </tr>\n",
       "    <tr>\n",
       "      <th>surprise</th>\n",
       "      <td>0.743860</td>\n",
       "    </tr>\n",
       "  </tbody>\n",
       "</table>\n",
       "</div>"
      ],
      "text/plain": [
       "          F1 score\n",
       "joy       0.906690\n",
       "sadness   0.883770\n",
       "anger     0.933060\n",
       "fear      0.818182\n",
       "love      0.939886\n",
       "surprise  0.743860"
      ]
     },
     "execution_count": 53,
     "metadata": {},
     "output_type": "execute_result"
    }
   ],
   "source": [
    "#test the model with the test data\n",
    "y_pred=log_reg.predict(X_test)\n",
    "\n",
    "#calculate the accuracy\n",
    "log_reg_accuracy = accuracy_score(y_test, y_pred)\n",
    "print('Accuracy: ', log_reg_accuracy,'\\n')\n",
    "\n",
    "#calculate the F1 score\n",
    "f1_Score = get_F1(log_reg,X_test,y_test)\n",
    "pd.DataFrame(f1_Score, index=df_train.Emotion.unique(), columns=['F1 score'])"
   ]
  },
  {
   "cell_type": "code",
   "execution_count": null,
   "metadata": {},
   "outputs": [],
   "source": [
    "import pickle\n",
    "\n",
    "# Pickle the tokenizer\n",
    "with open('log_reg_model.pkl', 'wb') as f:\n",
    "    pickle.dump(log_reg, f)"
   ]
  },
  {
   "cell_type": "code",
   "execution_count": 54,
   "metadata": {
    "execution": {
     "iopub.execute_input": "2023-07-04T09:29:45.266922Z",
     "iopub.status.busy": "2023-07-04T09:29:45.265624Z",
     "iopub.status.idle": "2023-07-04T09:29:45.475873Z",
     "shell.execute_reply": "2023-07-04T09:29:45.474659Z",
     "shell.execute_reply.started": "2023-07-04T09:29:45.266873Z"
    }
   },
   "outputs": [
    {
     "name": "stdout",
     "output_type": "stream",
     "text": [
      "              precision    recall  f1-score   support\n",
      "\n",
      "       anger       0.93      0.88      0.91       583\n",
      "        fear       0.90      0.86      0.88       488\n",
      "         joy       0.89      0.98      0.93      1400\n",
      "        love       0.94      0.72      0.82       299\n",
      "     sadness       0.92      0.96      0.94      1204\n",
      "    surprise       0.95      0.61      0.74       173\n",
      "\n",
      "    accuracy                           0.91      4147\n",
      "   macro avg       0.92      0.84      0.87      4147\n",
      "weighted avg       0.91      0.91      0.91      4147\n",
      "\n"
     ]
    }
   ],
   "source": [
    "##Classification Report\n",
    "print(classification_report(y_test, y_pred))"
   ]
  },
  {
   "cell_type": "markdown",
   "metadata": {},
   "source": [
    "Decision Tree model\n"
   ]
  },
  {
   "cell_type": "code",
   "execution_count": 55,
   "metadata": {
    "execution": {
     "iopub.execute_input": "2023-07-04T09:29:45.478195Z",
     "iopub.status.busy": "2023-07-04T09:29:45.477780Z",
     "iopub.status.idle": "2023-07-04T09:29:51.626020Z",
     "shell.execute_reply": "2023-07-04T09:29:51.624674Z",
     "shell.execute_reply.started": "2023-07-04T09:29:45.478151Z"
    }
   },
   "outputs": [
    {
     "name": "stdout",
     "output_type": "stream",
     "text": [
      "Accuracy:  0.9669640704123462 \n",
      "\n"
     ]
    },
    {
     "data": {
      "text/html": [
       "<div>\n",
       "<style scoped>\n",
       "    .dataframe tbody tr th:only-of-type {\n",
       "        vertical-align: middle;\n",
       "    }\n",
       "\n",
       "    .dataframe tbody tr th {\n",
       "        vertical-align: top;\n",
       "    }\n",
       "\n",
       "    .dataframe thead th {\n",
       "        text-align: right;\n",
       "    }\n",
       "</style>\n",
       "<table border=\"1\" class=\"dataframe\">\n",
       "  <thead>\n",
       "    <tr style=\"text-align: right;\">\n",
       "      <th></th>\n",
       "      <th>F1 score</th>\n",
       "    </tr>\n",
       "  </thead>\n",
       "  <tbody>\n",
       "    <tr>\n",
       "      <th>joy</th>\n",
       "      <td>0.957770</td>\n",
       "    </tr>\n",
       "    <tr>\n",
       "      <th>sadness</th>\n",
       "      <td>0.953157</td>\n",
       "    </tr>\n",
       "    <tr>\n",
       "      <th>anger</th>\n",
       "      <td>0.976962</td>\n",
       "    </tr>\n",
       "    <tr>\n",
       "      <th>fear</th>\n",
       "      <td>0.948590</td>\n",
       "    </tr>\n",
       "    <tr>\n",
       "      <th>love</th>\n",
       "      <td>0.975529</td>\n",
       "    </tr>\n",
       "    <tr>\n",
       "      <th>surprise</th>\n",
       "      <td>0.928571</td>\n",
       "    </tr>\n",
       "  </tbody>\n",
       "</table>\n",
       "</div>"
      ],
      "text/plain": [
       "          F1 score\n",
       "joy       0.957770\n",
       "sadness   0.953157\n",
       "anger     0.976962\n",
       "fear      0.948590\n",
       "love      0.975529\n",
       "surprise  0.928571"
      ]
     },
     "execution_count": 55,
     "metadata": {},
     "output_type": "execute_result"
    }
   ],
   "source": [
    "#Train the model with the training data\n",
    "DT = train_model(DecisionTreeClassifier(random_state = 0), X_train, y_train)\n",
    "\n",
    "#test the model with the test data\n",
    "y_pred=DT.predict(X_test)\n",
    "\n",
    "#calculate the accuracy\n",
    "DT_accuracy = accuracy_score(y_test, y_pred)\n",
    "print('Accuracy: ', DT_accuracy,'\\n')\n",
    "\n",
    "#calculate the F1 score\n",
    "f1_Score = get_F1(DT,X_test,y_test)\n",
    "pd.DataFrame(f1_Score, index=df_train.Emotion.unique(), columns=['F1 score']) "
   ]
  },
  {
   "cell_type": "code",
   "execution_count": 56,
   "metadata": {
    "execution": {
     "iopub.execute_input": "2023-07-04T09:29:51.628986Z",
     "iopub.status.busy": "2023-07-04T09:29:51.628089Z",
     "iopub.status.idle": "2023-07-04T09:29:51.839030Z",
     "shell.execute_reply": "2023-07-04T09:29:51.837701Z",
     "shell.execute_reply.started": "2023-07-04T09:29:51.628937Z"
    }
   },
   "outputs": [
    {
     "name": "stdout",
     "output_type": "stream",
     "text": [
      "              precision    recall  f1-score   support\n",
      "\n",
      "       anger       0.94      0.97      0.96       583\n",
      "        fear       0.95      0.96      0.95       488\n",
      "         joy       0.98      0.97      0.98      1400\n",
      "        love       0.94      0.96      0.95       299\n",
      "     sadness       0.97      0.98      0.98      1204\n",
      "    surprise       0.96      0.90      0.93       173\n",
      "\n",
      "    accuracy                           0.97      4147\n",
      "   macro avg       0.96      0.96      0.96      4147\n",
      "weighted avg       0.97      0.97      0.97      4147\n",
      "\n"
     ]
    }
   ],
   "source": [
    "##Classification Report\n",
    "print(classification_report(y_test, y_pred))"
   ]
  },
  {
   "cell_type": "markdown",
   "metadata": {},
   "source": [
    "Random Forest model\n"
   ]
  },
  {
   "cell_type": "code",
   "execution_count": 57,
   "metadata": {
    "execution": {
     "iopub.execute_input": "2023-07-04T09:29:51.841589Z",
     "iopub.status.busy": "2023-07-04T09:29:51.841072Z",
     "iopub.status.idle": "2023-07-04T09:30:19.215182Z",
     "shell.execute_reply": "2023-07-04T09:30:19.213997Z",
     "shell.execute_reply.started": "2023-07-04T09:29:51.841541Z"
    }
   },
   "outputs": [
    {
     "name": "stdout",
     "output_type": "stream",
     "text": [
      "Accuracy:  0.9691343139619002 \n",
      "\n"
     ]
    },
    {
     "data": {
      "text/html": [
       "<div>\n",
       "<style scoped>\n",
       "    .dataframe tbody tr th:only-of-type {\n",
       "        vertical-align: middle;\n",
       "    }\n",
       "\n",
       "    .dataframe tbody tr th {\n",
       "        vertical-align: top;\n",
       "    }\n",
       "\n",
       "    .dataframe thead th {\n",
       "        text-align: right;\n",
       "    }\n",
       "</style>\n",
       "<table border=\"1\" class=\"dataframe\">\n",
       "  <thead>\n",
       "    <tr style=\"text-align: right;\">\n",
       "      <th></th>\n",
       "      <th>F1 score</th>\n",
       "    </tr>\n",
       "  </thead>\n",
       "  <tbody>\n",
       "    <tr>\n",
       "      <th>joy</th>\n",
       "      <td>0.957035</td>\n",
       "    </tr>\n",
       "    <tr>\n",
       "      <th>sadness</th>\n",
       "      <td>0.952675</td>\n",
       "    </tr>\n",
       "    <tr>\n",
       "      <th>anger</th>\n",
       "      <td>0.978800</td>\n",
       "    </tr>\n",
       "    <tr>\n",
       "      <th>fear</th>\n",
       "      <td>0.951747</td>\n",
       "    </tr>\n",
       "    <tr>\n",
       "      <th>love</th>\n",
       "      <td>0.980165</td>\n",
       "    </tr>\n",
       "    <tr>\n",
       "      <th>surprise</th>\n",
       "      <td>0.930514</td>\n",
       "    </tr>\n",
       "  </tbody>\n",
       "</table>\n",
       "</div>"
      ],
      "text/plain": [
       "          F1 score\n",
       "joy       0.957035\n",
       "sadness   0.952675\n",
       "anger     0.978800\n",
       "fear      0.951747\n",
       "love      0.980165\n",
       "surprise  0.930514"
      ]
     },
     "execution_count": 57,
     "metadata": {},
     "output_type": "execute_result"
    }
   ],
   "source": [
    "#Train the model with the training data\n",
    "RF = train_model(RandomForestClassifier(random_state = 0), X_train, y_train)\n",
    "\n",
    "#test the model with the test data\n",
    "y_pred=RF.predict(X_test)\n",
    "\n",
    "#calculate the accuracy\n",
    "RF_accuracy = accuracy_score(y_test, y_pred)\n",
    "print('Accuracy: ', RF_accuracy,'\\n')\n",
    "\n",
    "#calculate the F1 score\n",
    "f1_Score = get_F1(RF, X_test, y_test)\n",
    "pd.DataFrame(f1_Score, index=df_train.Emotion.unique(), columns=['F1 score']) "
   ]
  },
  {
   "cell_type": "code",
   "execution_count": 58,
   "metadata": {
    "execution": {
     "iopub.execute_input": "2023-07-04T09:30:19.218384Z",
     "iopub.status.busy": "2023-07-04T09:30:19.217479Z",
     "iopub.status.idle": "2023-07-04T09:30:19.431167Z",
     "shell.execute_reply": "2023-07-04T09:30:19.429733Z",
     "shell.execute_reply.started": "2023-07-04T09:30:19.218337Z"
    }
   },
   "outputs": [
    {
     "name": "stdout",
     "output_type": "stream",
     "text": [
      "              precision    recall  f1-score   support\n",
      "\n",
      "       anger       0.94      0.97      0.96       583\n",
      "        fear       0.96      0.95      0.95       488\n",
      "         joy       0.98      0.97      0.98      1400\n",
      "        love       0.95      0.96      0.95       299\n",
      "     sadness       0.98      0.99      0.98      1204\n",
      "    surprise       0.97      0.89      0.93       173\n",
      "\n",
      "    accuracy                           0.97      4147\n",
      "   macro avg       0.96      0.95      0.96      4147\n",
      "weighted avg       0.97      0.97      0.97      4147\n",
      "\n"
     ]
    }
   ],
   "source": [
    "##Classification Report\n",
    "print(classification_report(y_test, y_pred))"
   ]
  },
  {
   "cell_type": "code",
   "execution_count": 59,
   "metadata": {},
   "outputs": [],
   "source": [
    "import pickle\n",
    "\n",
    "# Save the model to a file\n",
    "with open('RF_model.pkl', 'wb') as f:\n",
    "    pickle.dump(RF, f)"
   ]
  },
  {
   "cell_type": "markdown",
   "metadata": {},
   "source": [
    "LSTM implementation\n"
   ]
  },
  {
   "cell_type": "code",
   "execution_count": 60,
   "metadata": {
    "execution": {
     "iopub.execute_input": "2023-07-04T09:30:19.433839Z",
     "iopub.status.busy": "2023-07-04T09:30:19.433028Z",
     "iopub.status.idle": "2023-07-04T09:30:19.441478Z",
     "shell.execute_reply": "2023-07-04T09:30:19.440068Z",
     "shell.execute_reply.started": "2023-07-04T09:30:19.433789Z"
    }
   },
   "outputs": [],
   "source": [
    "#Splitting the text from the labels\n",
    "X_train = df_train['Text']\n",
    "y_train = df_train['Emotion']\n",
    "\n",
    "X_test = df_test['Text']\n",
    "y_test = df_test['Emotion']\n",
    "\n",
    "X_val = df_val['Text']\n",
    "y_val = df_val['Emotion']"
   ]
  },
  {
   "cell_type": "code",
   "execution_count": 61,
   "metadata": {
    "execution": {
     "iopub.execute_input": "2023-07-04T09:30:19.444418Z",
     "iopub.status.busy": "2023-07-04T09:30:19.443545Z",
     "iopub.status.idle": "2023-07-04T09:30:19.469174Z",
     "shell.execute_reply": "2023-07-04T09:30:19.468001Z",
     "shell.execute_reply.started": "2023-07-04T09:30:19.444363Z"
    }
   },
   "outputs": [],
   "source": [
    "# Encode labels\n",
    "le = LabelEncoder()\n",
    "y_train = le.fit_transform(y_train)\n",
    "y_test = le.transform(y_test)\n",
    "y_val = le.transform(y_val)"
   ]
  },
  {
   "cell_type": "code",
   "execution_count": 62,
   "metadata": {
    "execution": {
     "iopub.execute_input": "2023-07-04T09:30:19.471811Z",
     "iopub.status.busy": "2023-07-04T09:30:19.471333Z",
     "iopub.status.idle": "2023-07-04T09:30:19.486873Z",
     "shell.execute_reply": "2023-07-04T09:30:19.485525Z",
     "shell.execute_reply.started": "2023-07-04T09:30:19.471767Z"
    }
   },
   "outputs": [
    {
     "name": "stdout",
     "output_type": "stream",
     "text": [
      "{0, 1, 2, 3, 4, 5}\n"
     ]
    }
   ],
   "source": [
    "#print the labels after encoding \n",
    "print(set(y_train))"
   ]
  },
  {
   "cell_type": "code",
   "execution_count": 63,
   "metadata": {
    "execution": {
     "iopub.execute_input": "2023-07-04T09:30:19.489022Z",
     "iopub.status.busy": "2023-07-04T09:30:19.488574Z",
     "iopub.status.idle": "2023-07-04T09:30:19.499223Z",
     "shell.execute_reply": "2023-07-04T09:30:19.498094Z",
     "shell.execute_reply.started": "2023-07-04T09:30:19.488978Z"
    }
   },
   "outputs": [],
   "source": [
    "#Convert the class vector (integers) to binary class matrix\n",
    "y_train = to_categorical(y_train)\n",
    "y_test = to_categorical(y_test)\n",
    "y_val = to_categorical(y_val)"
   ]
  },
  {
   "cell_type": "code",
   "execution_count": 64,
   "metadata": {
    "execution": {
     "iopub.execute_input": "2023-07-04T09:30:19.501748Z",
     "iopub.status.busy": "2023-07-04T09:30:19.501294Z",
     "iopub.status.idle": "2023-07-04T09:30:19.511762Z",
     "shell.execute_reply": "2023-07-04T09:30:19.510408Z",
     "shell.execute_reply.started": "2023-07-04T09:30:19.501707Z"
    }
   },
   "outputs": [
    {
     "name": "stdout",
     "output_type": "stream",
     "text": [
      "[[0. 0. 1. 0. 0. 0.]\n",
      " [0. 0. 0. 0. 1. 0.]\n",
      " [0. 0. 1. 0. 0. 0.]\n",
      " ...\n",
      " [0. 0. 0. 1. 0. 0.]\n",
      " [0. 0. 0. 0. 1. 0.]\n",
      " [0. 0. 1. 0. 0. 0.]]\n"
     ]
    }
   ],
   "source": [
    "print(y_train)"
   ]
  },
  {
   "cell_type": "code",
   "execution_count": 65,
   "metadata": {
    "execution": {
     "iopub.execute_input": "2023-07-04T09:30:19.514372Z",
     "iopub.status.busy": "2023-07-04T09:30:19.513758Z",
     "iopub.status.idle": "2023-07-04T09:30:20.064286Z",
     "shell.execute_reply": "2023-07-04T09:30:20.063042Z",
     "shell.execute_reply.started": "2023-07-04T09:30:19.514326Z"
    }
   },
   "outputs": [],
   "source": [
    "# Tokenize words\n",
    "tokenizer = Tokenizer(oov_token='UNK')\n",
    "tokenizer.fit_on_texts(pd.concat([X_train, X_test], axis=0))"
   ]
  },
  {
   "cell_type": "code",
   "execution_count": 66,
   "metadata": {
    "execution": {
     "iopub.execute_input": "2023-07-04T09:30:20.066878Z",
     "iopub.status.busy": "2023-07-04T09:30:20.066404Z",
     "iopub.status.idle": "2023-07-04T09:30:20.072708Z",
     "shell.execute_reply": "2023-07-04T09:30:20.071518Z",
     "shell.execute_reply.started": "2023-07-04T09:30:20.066830Z"
    }
   },
   "outputs": [],
   "source": [
    "#word index: A dictionary of words and their uniquely assigned integers.\n",
    "#tokenizer.word_index"
   ]
  },
  {
   "cell_type": "code",
   "execution_count": 67,
   "metadata": {
    "execution": {
     "iopub.execute_input": "2023-07-04T09:30:20.075932Z",
     "iopub.status.busy": "2023-07-04T09:30:20.074509Z",
     "iopub.status.idle": "2023-07-04T09:30:20.084830Z",
     "shell.execute_reply": "2023-07-04T09:30:20.083673Z",
     "shell.execute_reply.started": "2023-07-04T09:30:20.075886Z"
    }
   },
   "outputs": [],
   "source": [
    "#word counts: A dictionary of words and their counts.\n",
    "#tokenizer.word_counts"
   ]
  },
  {
   "cell_type": "code",
   "execution_count": 68,
   "metadata": {
    "execution": {
     "iopub.execute_input": "2023-07-04T09:30:20.087254Z",
     "iopub.status.busy": "2023-07-04T09:30:20.086451Z",
     "iopub.status.idle": "2023-07-04T09:30:20.100837Z",
     "shell.execute_reply": "2023-07-04T09:30:20.099582Z",
     "shell.execute_reply.started": "2023-07-04T09:30:20.087191Z"
    }
   },
   "outputs": [
    {
     "data": {
      "text/plain": [
       "24452"
      ]
     },
     "execution_count": 68,
     "metadata": {},
     "output_type": "execute_result"
    }
   ],
   "source": [
    "#document count: A dictionary of words and how many documents each appeared in.\n",
    "#in this dataset the output will be the number of rows\n",
    "tokenizer.document_count"
   ]
  },
  {
   "cell_type": "code",
   "execution_count": 69,
   "metadata": {
    "execution": {
     "iopub.execute_input": "2023-07-04T09:30:20.104761Z",
     "iopub.status.busy": "2023-07-04T09:30:20.104328Z",
     "iopub.status.idle": "2023-07-04T09:30:20.112651Z",
     "shell.execute_reply": "2023-07-04T09:30:20.111452Z",
     "shell.execute_reply.started": "2023-07-04T09:30:20.104727Z"
    }
   },
   "outputs": [],
   "source": [
    "#word docs: An integer count of the total number of documents(or rows) that were used to fit the Tokenizer.\n",
    "#tokenizer.word_docs"
   ]
  },
  {
   "cell_type": "code",
   "execution_count": 70,
   "metadata": {
    "execution": {
     "iopub.execute_input": "2023-07-04T09:30:20.114456Z",
     "iopub.status.busy": "2023-07-04T09:30:20.114045Z",
     "iopub.status.idle": "2023-07-04T09:30:20.126729Z",
     "shell.execute_reply": "2023-07-04T09:30:20.125311Z",
     "shell.execute_reply.started": "2023-07-04T09:30:20.114424Z"
    }
   },
   "outputs": [
    {
     "data": {
      "text/plain": [
       "222"
      ]
     },
     "execution_count": 70,
     "metadata": {},
     "output_type": "execute_result"
    }
   ],
   "source": [
    "#print the index of a single word\n",
    "tokenizer.word_index['towards']"
   ]
  },
  {
   "cell_type": "code",
   "execution_count": 71,
   "metadata": {
    "execution": {
     "iopub.execute_input": "2023-07-04T09:30:20.129835Z",
     "iopub.status.busy": "2023-07-04T09:30:20.128612Z",
     "iopub.status.idle": "2023-07-04T09:30:20.141099Z",
     "shell.execute_reply": "2023-07-04T09:30:20.139723Z",
     "shell.execute_reply.started": "2023-07-04T09:30:20.129791Z"
    }
   },
   "outputs": [
    {
     "data": {
      "text/plain": [
       "[[56],\n",
       " [51],\n",
       " [27],\n",
       " [2],\n",
       " [247],\n",
       " [389],\n",
       " [14],\n",
       " [106],\n",
       " [1364],\n",
       " [22],\n",
       " [386],\n",
       " [9],\n",
       " [4388]]"
      ]
     },
     "execution_count": 71,
     "metadata": {},
     "output_type": "execute_result"
    }
   ],
   "source": [
    "#converting a single sentence to list of indexes\n",
    "tokenizer.texts_to_sequences(X_train[0].split())"
   ]
  },
  {
   "cell_type": "code",
   "execution_count": 72,
   "metadata": {
    "execution": {
     "iopub.execute_input": "2023-07-04T09:30:20.144141Z",
     "iopub.status.busy": "2023-07-04T09:30:20.143402Z",
     "iopub.status.idle": "2023-07-04T09:30:20.154607Z",
     "shell.execute_reply": "2023-07-04T09:30:20.153131Z",
     "shell.execute_reply.started": "2023-07-04T09:30:20.144097Z"
    }
   },
   "outputs": [
    {
     "data": {
      "text/plain": [
       "array([[0., 0., 0., ..., 0., 0., 0.],\n",
       "       [0., 0., 0., ..., 0., 0., 0.],\n",
       "       [0., 0., 0., ..., 0., 0., 0.],\n",
       "       ...,\n",
       "       [0., 0., 0., ..., 0., 0., 0.],\n",
       "       [0., 0., 0., ..., 0., 0., 0.],\n",
       "       [0., 0., 0., ..., 0., 0., 0.]])"
      ]
     },
     "execution_count": 72,
     "metadata": {},
     "output_type": "execute_result"
    }
   ],
   "source": [
    "#convert the list of indexes into a matrix of ones and zeros (BOW)\n",
    "tokenizer.texts_to_matrix(X_train[0].split())"
   ]
  },
  {
   "cell_type": "code",
   "execution_count": 73,
   "metadata": {
    "execution": {
     "iopub.execute_input": "2023-07-04T09:30:20.157664Z",
     "iopub.status.busy": "2023-07-04T09:30:20.156767Z",
     "iopub.status.idle": "2023-07-04T09:30:20.169110Z",
     "shell.execute_reply": "2023-07-04T09:30:20.167544Z",
     "shell.execute_reply.started": "2023-07-04T09:30:20.157613Z"
    }
   },
   "outputs": [
    {
     "data": {
      "text/plain": [
       "(13, 16849)"
      ]
     },
     "execution_count": 73,
     "metadata": {},
     "output_type": "execute_result"
    }
   ],
   "source": [
    "#the sentence contains three words and the size of the vocabulary is 14325\n",
    "tokenizer.texts_to_matrix(X_train[0].split()).shape"
   ]
  },
  {
   "cell_type": "code",
   "execution_count": 74,
   "metadata": {
    "execution": {
     "iopub.execute_input": "2023-07-04T09:30:20.172518Z",
     "iopub.status.busy": "2023-07-04T09:30:20.171400Z",
     "iopub.status.idle": "2023-07-04T09:30:20.664298Z",
     "shell.execute_reply": "2023-07-04T09:30:20.663005Z",
     "shell.execute_reply.started": "2023-07-04T09:30:20.172468Z"
    }
   },
   "outputs": [],
   "source": [
    "sequences_train = tokenizer.texts_to_sequences(X_train)\n",
    "sequences_test = tokenizer.texts_to_sequences(X_test)\n",
    "sequences_val = tokenizer.texts_to_sequences(X_val)"
   ]
  },
  {
   "cell_type": "code",
   "execution_count": 75,
   "metadata": {
    "execution": {
     "iopub.execute_input": "2023-07-04T09:30:20.667216Z",
     "iopub.status.busy": "2023-07-04T09:30:20.666454Z",
     "iopub.status.idle": "2023-07-04T09:30:20.672284Z",
     "shell.execute_reply": "2023-07-04T09:30:20.671037Z",
     "shell.execute_reply.started": "2023-07-04T09:30:20.667154Z"
    }
   },
   "outputs": [],
   "source": [
    "#print the sentence after converting them to indexes\n",
    "#sequences_train"
   ]
  },
  {
   "cell_type": "code",
   "execution_count": 76,
   "metadata": {
    "execution": {
     "iopub.execute_input": "2023-07-04T09:30:20.675205Z",
     "iopub.status.busy": "2023-07-04T09:30:20.674218Z",
     "iopub.status.idle": "2023-07-04T09:30:20.690322Z",
     "shell.execute_reply": "2023-07-04T09:30:20.688688Z",
     "shell.execute_reply.started": "2023-07-04T09:30:20.675057Z"
    }
   },
   "outputs": [
    {
     "data": {
      "text/plain": [
       "(4147, 2)"
      ]
     },
     "execution_count": 76,
     "metadata": {},
     "output_type": "execute_result"
    }
   ],
   "source": [
    "df_test.shape"
   ]
  },
  {
   "cell_type": "code",
   "execution_count": 77,
   "metadata": {
    "execution": {
     "iopub.execute_input": "2023-07-04T09:30:20.695028Z",
     "iopub.status.busy": "2023-07-04T09:30:20.693341Z",
     "iopub.status.idle": "2023-07-04T09:30:20.710597Z",
     "shell.execute_reply": "2023-07-04T09:30:20.709384Z",
     "shell.execute_reply.started": "2023-07-04T09:30:20.694981Z"
    }
   },
   "outputs": [
    {
     "data": {
      "text/plain": [
       "229"
      ]
     },
     "execution_count": 77,
     "metadata": {},
     "output_type": "execute_result"
    }
   ],
   "source": [
    "maxlen = max([len(t) for t in df_train['Text']])\n",
    "maxlen"
   ]
  },
  {
   "cell_type": "code",
   "execution_count": 78,
   "metadata": {
    "execution": {
     "iopub.execute_input": "2023-07-04T09:30:20.713354Z",
     "iopub.status.busy": "2023-07-04T09:30:20.712501Z",
     "iopub.status.idle": "2023-07-04T09:30:20.882811Z",
     "shell.execute_reply": "2023-07-04T09:30:20.881313Z",
     "shell.execute_reply.started": "2023-07-04T09:30:20.713310Z"
    }
   },
   "outputs": [
    {
     "name": "stdout",
     "output_type": "stream",
     "text": [
      "Vocabulary size = 16849\n"
     ]
    }
   ],
   "source": [
    "X_train = pad_sequences(sequences_train, maxlen=229, truncating='pre')\n",
    "X_test = pad_sequences(sequences_test, maxlen=229, truncating='pre')\n",
    "X_val = pad_sequences(sequences_val, maxlen=229, truncating='pre')\n",
    "\n",
    "vocabSize = len(tokenizer.index_word) + 1\n",
    "print(f\"Vocabulary size = {vocabSize}\")"
   ]
  },
  {
   "cell_type": "code",
   "execution_count": 79,
   "metadata": {
    "execution": {
     "iopub.execute_input": "2023-07-04T09:30:20.886147Z",
     "iopub.status.busy": "2023-07-04T09:30:20.885410Z",
     "iopub.status.idle": "2023-07-04T09:30:20.894629Z",
     "shell.execute_reply": "2023-07-04T09:30:20.893220Z",
     "shell.execute_reply.started": "2023-07-04T09:30:20.886100Z"
    }
   },
   "outputs": [
    {
     "data": {
      "text/plain": [
       "[56, 51, 27, 2, 247, 389, 14, 106, 1364, 22, 386, 9, 4388]"
      ]
     },
     "execution_count": 79,
     "metadata": {},
     "output_type": "execute_result"
    }
   ],
   "source": [
    "#before\n",
    "sequences_train[0]"
   ]
  },
  {
   "cell_type": "code",
   "execution_count": 80,
   "metadata": {
    "execution": {
     "iopub.execute_input": "2023-07-04T09:30:20.897226Z",
     "iopub.status.busy": "2023-07-04T09:30:20.896631Z",
     "iopub.status.idle": "2023-07-04T09:30:20.909464Z",
     "shell.execute_reply": "2023-07-04T09:30:20.908312Z",
     "shell.execute_reply.started": "2023-07-04T09:30:20.897013Z"
    }
   },
   "outputs": [
    {
     "data": {
      "text/plain": [
       "array([   0,    0,    0,    0,    0,    0,    0,    0,    0,    0,    0,\n",
       "          0,    0,    0,    0,    0,    0,    0,    0,    0,    0,    0,\n",
       "          0,    0,    0,    0,    0,    0,    0,    0,    0,    0,    0,\n",
       "          0,    0,    0,    0,    0,    0,    0,    0,    0,    0,    0,\n",
       "          0,    0,    0,    0,    0,    0,    0,    0,    0,    0,    0,\n",
       "          0,    0,    0,    0,    0,    0,    0,    0,    0,    0,    0,\n",
       "          0,    0,    0,    0,    0,    0,    0,    0,    0,    0,    0,\n",
       "          0,    0,    0,    0,    0,    0,    0,    0,    0,    0,    0,\n",
       "          0,    0,    0,    0,    0,    0,    0,    0,    0,    0,    0,\n",
       "          0,    0,    0,    0,    0,    0,    0,    0,    0,    0,    0,\n",
       "          0,    0,    0,    0,    0,    0,    0,    0,    0,    0,    0,\n",
       "          0,    0,    0,    0,    0,    0,    0,    0,    0,    0,    0,\n",
       "          0,    0,    0,    0,    0,    0,    0,    0,    0,    0,    0,\n",
       "          0,    0,    0,    0,    0,    0,    0,    0,    0,    0,    0,\n",
       "          0,    0,    0,    0,    0,    0,    0,    0,    0,    0,    0,\n",
       "          0,    0,    0,    0,    0,    0,    0,    0,    0,    0,    0,\n",
       "          0,    0,    0,    0,    0,    0,    0,    0,    0,    0,    0,\n",
       "          0,    0,    0,    0,    0,    0,    0,    0,    0,    0,    0,\n",
       "          0,    0,    0,    0,    0,    0,    0,    0,    0,    0,    0,\n",
       "          0,    0,    0,    0,    0,    0,    0,   56,   51,   27,    2,\n",
       "        247,  389,   14,  106, 1364,   22,  386,    9, 4388], dtype=int32)"
      ]
     },
     "execution_count": 80,
     "metadata": {},
     "output_type": "execute_result"
    }
   ],
   "source": [
    "#after\n",
    "X_train[0]"
   ]
  },
  {
   "cell_type": "code",
   "execution_count": 81,
   "metadata": {
    "execution": {
     "iopub.execute_input": "2023-07-04T09:30:20.911750Z",
     "iopub.status.busy": "2023-07-04T09:30:20.911366Z",
     "iopub.status.idle": "2023-07-04T09:30:21.017976Z",
     "shell.execute_reply": "2023-07-04T09:30:21.016587Z",
     "shell.execute_reply.started": "2023-07-04T09:30:20.911711Z"
    }
   },
   "outputs": [],
   "source": [
    "# Read GloVE embeddings\n",
    "\n",
    "path_to_glove_file = '/Users/kumarakrishnavaleti/desktop/PS1/glove/glove.6B.200d.txt'\n",
    "num_tokens = vocabSize\n",
    "embedding_dim = 200 #latent factors or features  \n",
    "hits = 0\n",
    "misses = 0\n",
    "embeddings_index = {}"
   ]
  },
  {
   "cell_type": "code",
   "execution_count": 82,
   "metadata": {
    "execution": {
     "iopub.execute_input": "2023-07-04T09:30:21.027672Z",
     "iopub.status.busy": "2023-07-04T09:30:21.026505Z",
     "iopub.status.idle": "2023-07-04T09:30:46.314566Z",
     "shell.execute_reply": "2023-07-04T09:30:46.313323Z",
     "shell.execute_reply.started": "2023-07-04T09:30:21.027624Z"
    }
   },
   "outputs": [
    {
     "name": "stdout",
     "output_type": "stream",
     "text": [
      "Found 400000 word vectors.\n",
      "Converted 15332 words (1516 misses)\n"
     ]
    }
   ],
   "source": [
    "# Read word vectors\n",
    "with open(path_to_glove_file) as f:\n",
    "    for line in f:\n",
    "        word, coefs = line.split(maxsplit=1)\n",
    "        coefs = np.fromstring(coefs, \"f\", sep=\" \")\n",
    "        embeddings_index[word] = coefs\n",
    "print(\"Found %s word vectors.\" % len(embeddings_index))\n",
    "\n",
    "# Assign word vectors to our dictionary/vocabulary\n",
    "embedding_matrix = np.zeros((num_tokens, embedding_dim))\n",
    "for word, i in tokenizer.word_index.items():\n",
    "    embedding_vector = embeddings_index.get(word)\n",
    "    if embedding_vector is not None:\n",
    "        # Words not found in embedding index will be all-zeros.\n",
    "        # This includes the representation for \"padding\" and \"OOV\"\n",
    "        embedding_matrix[i] = embedding_vector\n",
    "        hits += 1\n",
    "    else:\n",
    "        misses += 1\n",
    "print(\"Converted %d words (%d misses)\" % (hits, misses))\n"
   ]
  },
  {
   "cell_type": "code",
   "execution_count": 83,
   "metadata": {
    "execution": {
     "iopub.execute_input": "2023-07-04T09:30:46.317232Z",
     "iopub.status.busy": "2023-07-04T09:30:46.316483Z",
     "iopub.status.idle": "2023-07-04T09:30:47.128833Z",
     "shell.execute_reply": "2023-07-04T09:30:47.127529Z",
     "shell.execute_reply.started": "2023-07-04T09:30:46.317187Z"
    }
   },
   "outputs": [
    {
     "name": "stderr",
     "output_type": "stream",
     "text": [
      "WARNING:absl:At this time, the v2.11+ optimizer `tf.keras.optimizers.Adam` runs slowly on M1/M2 Macs, please use the legacy Keras optimizer instead, located at `tf.keras.optimizers.legacy.Adam`.\n",
      "WARNING:absl:At this time, the v2.11+ optimizer `tf.keras.optimizers.Adam` runs slowly on M1/M2 Macs, please use the legacy Keras optimizer instead, located at `tf.keras.optimizers.legacy.Adam`.\n",
      "WARNING:absl:There is a known slowdown when using v2.11+ Keras optimizers on M1/M2 Macs. Falling back to the legacy Keras optimizer, i.e., `tf.keras.optimizers.legacy.Adam`.\n"
     ]
    },
    {
     "name": "stdout",
     "output_type": "stream",
     "text": [
      "Model: \"sequential\"\n",
      "_________________________________________________________________\n",
      " Layer (type)                Output Shape              Param #   \n",
      "=================================================================\n",
      " embedding (Embedding)       (None, 229, 200)          3369800   \n",
      "                                                                 \n",
      " bidirectional (Bidirection  (None, 229, 512)          935936    \n",
      " al)                                                             \n",
      "                                                                 \n",
      " bidirectional_1 (Bidirecti  (None, 229, 256)          656384    \n",
      " onal)                                                           \n",
      "                                                                 \n",
      " bidirectional_2 (Bidirecti  (None, 256)               394240    \n",
      " onal)                                                           \n",
      "                                                                 \n",
      " dense (Dense)               (None, 6)                 1542      \n",
      "                                                                 \n",
      "=================================================================\n",
      "Total params: 5357902 (20.44 MB)\n",
      "Trainable params: 1988102 (7.58 MB)\n",
      "Non-trainable params: 3369800 (12.85 MB)\n",
      "_________________________________________________________________\n"
     ]
    }
   ],
   "source": [
    "# Build neural network architecture\n",
    "\n",
    "adam = Adam(learning_rate=0.005)\n",
    "\n",
    "model = Sequential()\n",
    "model.add(Embedding(vocabSize, 200, input_length=X_train.shape[1], weights=[embedding_matrix], trainable=False))\n",
    "model.add(Bidirectional(LSTM(256, dropout=0.2,recurrent_dropout=0.2, return_sequences=True)))\n",
    "model.add(Bidirectional(LSTM(128, dropout=0.2,recurrent_dropout=0.2, return_sequences=True)))\n",
    "model.add(Bidirectional(LSTM(128, dropout=0.2,recurrent_dropout=0.2)))\n",
    "model.add(Dense(6, activation='softmax'))\n",
    "\n",
    "model.compile(loss='categorical_crossentropy', optimizer=Adam(learning_rate=0.005), metrics=['accuracy'])\n",
    "model.summary()"
   ]
  },
  {
   "cell_type": "code",
   "execution_count": 84,
   "metadata": {
    "execution": {
     "iopub.execute_input": "2023-07-04T09:30:47.131646Z",
     "iopub.status.busy": "2023-07-04T09:30:47.130225Z",
     "iopub.status.idle": "2023-07-04T09:30:47.137622Z",
     "shell.execute_reply": "2023-07-04T09:30:47.136283Z",
     "shell.execute_reply.started": "2023-07-04T09:30:47.131600Z"
    }
   },
   "outputs": [],
   "source": [
    "#to stop the training when the loss starts to increase\n",
    "callback = EarlyStopping(\n",
    "    monitor=\"val_loss\",\n",
    "    patience=4,\n",
    "    restore_best_weights=True,\n",
    ")"
   ]
  },
  {
   "cell_type": "code",
   "execution_count": 86,
   "metadata": {
    "execution": {
     "iopub.execute_input": "2023-07-04T09:30:47.140126Z",
     "iopub.status.busy": "2023-07-04T09:30:47.139473Z",
     "iopub.status.idle": "2023-07-04T09:39:23.782283Z",
     "shell.execute_reply": "2023-07-04T09:39:23.781029Z",
     "shell.execute_reply.started": "2023-07-04T09:30:47.140081Z"
    }
   },
   "outputs": [
    {
     "ename": "OSError",
     "evalue": "No file or directory found at model.keras",
     "output_type": "error",
     "traceback": [
      "\u001b[0;31m---------------------------------------------------------------------------\u001b[0m",
      "\u001b[0;31mOSError\u001b[0m                                   Traceback (most recent call last)",
      "Cell \u001b[0;32mIn[86], line 3\u001b[0m\n\u001b[1;32m      1\u001b[0m \u001b[38;5;66;03m# Fit model\u001b[39;00m\n\u001b[1;32m      2\u001b[0m \u001b[38;5;28;01mimport\u001b[39;00m \u001b[38;5;21;01mkeras\u001b[39;00m\n\u001b[0;32m----> 3\u001b[0m model \u001b[38;5;241m=\u001b[39m \u001b[43mkeras\u001b[49m\u001b[38;5;241;43m.\u001b[39;49m\u001b[43mmodels\u001b[49m\u001b[38;5;241;43m.\u001b[39;49m\u001b[43mload_model\u001b[49m\u001b[43m(\u001b[49m\u001b[38;5;124;43m\"\u001b[39;49m\u001b[38;5;124;43mmodel.keras\u001b[39;49m\u001b[38;5;124;43m\"\u001b[39;49m\u001b[43m)\u001b[49m\n",
      "File \u001b[0;32m~/anaconda3/lib/python3.10/site-packages/keras/src/saving/saving_api.py:238\u001b[0m, in \u001b[0;36mload_model\u001b[0;34m(filepath, custom_objects, compile, safe_mode, **kwargs)\u001b[0m\n\u001b[1;32m    230\u001b[0m     \u001b[38;5;28;01mreturn\u001b[39;00m saving_lib\u001b[38;5;241m.\u001b[39mload_model(\n\u001b[1;32m    231\u001b[0m         filepath,\n\u001b[1;32m    232\u001b[0m         custom_objects\u001b[38;5;241m=\u001b[39mcustom_objects,\n\u001b[1;32m    233\u001b[0m         \u001b[38;5;28mcompile\u001b[39m\u001b[38;5;241m=\u001b[39m\u001b[38;5;28mcompile\u001b[39m,\n\u001b[1;32m    234\u001b[0m         safe_mode\u001b[38;5;241m=\u001b[39msafe_mode,\n\u001b[1;32m    235\u001b[0m     )\n\u001b[1;32m    237\u001b[0m \u001b[38;5;66;03m# Legacy case.\u001b[39;00m\n\u001b[0;32m--> 238\u001b[0m \u001b[38;5;28;01mreturn\u001b[39;00m \u001b[43mlegacy_sm_saving_lib\u001b[49m\u001b[38;5;241;43m.\u001b[39;49m\u001b[43mload_model\u001b[49m\u001b[43m(\u001b[49m\n\u001b[1;32m    239\u001b[0m \u001b[43m    \u001b[49m\u001b[43mfilepath\u001b[49m\u001b[43m,\u001b[49m\u001b[43m \u001b[49m\u001b[43mcustom_objects\u001b[49m\u001b[38;5;241;43m=\u001b[39;49m\u001b[43mcustom_objects\u001b[49m\u001b[43m,\u001b[49m\u001b[43m \u001b[49m\u001b[38;5;28;43mcompile\u001b[39;49m\u001b[38;5;241;43m=\u001b[39;49m\u001b[38;5;28;43mcompile\u001b[39;49m\u001b[43m,\u001b[49m\u001b[43m \u001b[49m\u001b[38;5;241;43m*\u001b[39;49m\u001b[38;5;241;43m*\u001b[39;49m\u001b[43mkwargs\u001b[49m\n\u001b[1;32m    240\u001b[0m \u001b[43m\u001b[49m\u001b[43m)\u001b[49m\n",
      "File \u001b[0;32m~/anaconda3/lib/python3.10/site-packages/keras/src/utils/traceback_utils.py:70\u001b[0m, in \u001b[0;36mfilter_traceback.<locals>.error_handler\u001b[0;34m(*args, **kwargs)\u001b[0m\n\u001b[1;32m     67\u001b[0m     filtered_tb \u001b[38;5;241m=\u001b[39m _process_traceback_frames(e\u001b[38;5;241m.\u001b[39m__traceback__)\n\u001b[1;32m     68\u001b[0m     \u001b[38;5;66;03m# To get the full stack trace, call:\u001b[39;00m\n\u001b[1;32m     69\u001b[0m     \u001b[38;5;66;03m# `tf.debugging.disable_traceback_filtering()`\u001b[39;00m\n\u001b[0;32m---> 70\u001b[0m     \u001b[38;5;28;01mraise\u001b[39;00m e\u001b[38;5;241m.\u001b[39mwith_traceback(filtered_tb) \u001b[38;5;28;01mfrom\u001b[39;00m \u001b[38;5;28mNone\u001b[39m\n\u001b[1;32m     71\u001b[0m \u001b[38;5;28;01mfinally\u001b[39;00m:\n\u001b[1;32m     72\u001b[0m     \u001b[38;5;28;01mdel\u001b[39;00m filtered_tb\n",
      "File \u001b[0;32m~/anaconda3/lib/python3.10/site-packages/keras/src/saving/legacy/save.py:234\u001b[0m, in \u001b[0;36mload_model\u001b[0;34m(filepath, custom_objects, compile, options)\u001b[0m\n\u001b[1;32m    232\u001b[0m \u001b[38;5;28;01mif\u001b[39;00m \u001b[38;5;28misinstance\u001b[39m(filepath_str, \u001b[38;5;28mstr\u001b[39m):\n\u001b[1;32m    233\u001b[0m     \u001b[38;5;28;01mif\u001b[39;00m \u001b[38;5;129;01mnot\u001b[39;00m tf\u001b[38;5;241m.\u001b[39mio\u001b[38;5;241m.\u001b[39mgfile\u001b[38;5;241m.\u001b[39mexists(filepath_str):\n\u001b[0;32m--> 234\u001b[0m         \u001b[38;5;28;01mraise\u001b[39;00m \u001b[38;5;167;01mIOError\u001b[39;00m(\n\u001b[1;32m    235\u001b[0m             \u001b[38;5;124mf\u001b[39m\u001b[38;5;124m\"\u001b[39m\u001b[38;5;124mNo file or directory found at \u001b[39m\u001b[38;5;132;01m{\u001b[39;00mfilepath_str\u001b[38;5;132;01m}\u001b[39;00m\u001b[38;5;124m\"\u001b[39m\n\u001b[1;32m    236\u001b[0m         )\n\u001b[1;32m    238\u001b[0m     \u001b[38;5;28;01mif\u001b[39;00m tf\u001b[38;5;241m.\u001b[39mio\u001b[38;5;241m.\u001b[39mgfile\u001b[38;5;241m.\u001b[39misdir(filepath_str):\n\u001b[1;32m    239\u001b[0m         \u001b[38;5;28;01mreturn\u001b[39;00m saved_model_load\u001b[38;5;241m.\u001b[39mload(\n\u001b[1;32m    240\u001b[0m             filepath_str, \u001b[38;5;28mcompile\u001b[39m, options\n\u001b[1;32m    241\u001b[0m         )\n",
      "\u001b[0;31mOSError\u001b[0m: No file or directory found at model.keras"
     ]
    }
   ],
   "source": [
    "history = model.fit(X_train,\n",
    "                    y_train,\n",
    "                    validation_data=(X_val, y_val),\n",
    "                    verbose=1,\n",
    "                    batch_size=256,\n",
    "                    epochs=50,\n",
    "                    callbacks=[callback]\n",
    "                   )"
   ]
  },
  {
   "cell_type": "code",
   "execution_count": null,
   "metadata": {},
   "outputs": [],
   "source": [
    "import pickle\n",
    "\n",
    "# Pickle the tokenizer\n",
    "with open('lstm_model.pkl', 'wb') as f:\n",
    "    pickle.dump(model, f)"
   ]
  },
  {
   "cell_type": "code",
   "execution_count": null,
   "metadata": {
    "execution": {
     "iopub.execute_input": "2023-07-04T09:39:23.784418Z",
     "iopub.status.busy": "2023-07-04T09:39:23.783985Z",
     "iopub.status.idle": "2023-07-04T09:40:02.775793Z",
     "shell.execute_reply": "2023-07-04T09:40:02.774633Z",
     "shell.execute_reply.started": "2023-07-04T09:39:23.784375Z"
    }
   },
   "outputs": [],
   "source": [
    "#print the overall loss and accuracy\n",
    "model.evaluate(X_val, y_val, verbose=1) "
   ]
  },
  {
   "cell_type": "code",
   "execution_count": null,
   "metadata": {
    "execution": {
     "iopub.execute_input": "2023-07-04T09:40:02.777644Z",
     "iopub.status.busy": "2023-07-04T09:40:02.777312Z",
     "iopub.status.idle": "2023-07-04T09:41:24.740487Z",
     "shell.execute_reply": "2023-07-04T09:41:24.739296Z",
     "shell.execute_reply.started": "2023-07-04T09:40:02.777613Z"
    }
   },
   "outputs": [],
   "source": [
    "#print the overall loss and accuracy\n",
    "model.evaluate(X_test, y_test, verbose=1) "
   ]
  },
  {
   "cell_type": "code",
   "execution_count": null,
   "metadata": {
    "execution": {
     "iopub.execute_input": "2023-07-04T09:41:24.742873Z",
     "iopub.status.busy": "2023-07-04T09:41:24.742402Z",
     "iopub.status.idle": "2023-07-04T09:42:05.972811Z",
     "shell.execute_reply": "2023-07-04T09:42:05.971564Z",
     "shell.execute_reply.started": "2023-07-04T09:41:24.742829Z"
    }
   },
   "outputs": [],
   "source": [
    "predicted = model.predict(X_test)\n",
    "y_pred = predicted.argmax(axis=-1)\n",
    "\n",
    "print(classification_report(le.transform(df_test['Emotion']), y_pred))"
   ]
  },
  {
   "cell_type": "code",
   "execution_count": null,
   "metadata": {
    "execution": {
     "iopub.execute_input": "2023-07-04T09:42:05.975466Z",
     "iopub.status.busy": "2023-07-04T09:42:05.974679Z",
     "iopub.status.idle": "2023-07-04T09:42:06.550234Z",
     "shell.execute_reply": "2023-07-04T09:42:06.549193Z",
     "shell.execute_reply.started": "2023-07-04T09:42:05.975419Z"
    }
   },
   "outputs": [],
   "source": [
    "# Visualize Loss & Accuracy\n",
    "\n",
    "%matplotlib inline\n",
    "import matplotlib.pyplot as plt\n",
    "acc = history.history['accuracy']\n",
    "val_acc = history.history['val_accuracy']\n",
    "loss = history.history['loss']\n",
    "val_loss = history.history['val_loss']\n",
    "\n",
    "epochs = range(len(acc))\n",
    "\n",
    "plt.plot(epochs, acc, 'r', label='Training accuracy')\n",
    "plt.plot(epochs, val_acc, 'b', label='Validation accuracy')\n",
    "plt.title('Training and validation accuracy')\n",
    "plt.legend()\n",
    "plt.figure()\n",
    "\n",
    "plt.plot(epochs, loss, 'r', label='Training Loss')\n",
    "plt.plot(epochs, val_loss, 'b', label='Validation Loss')\n",
    "plt.title('Training and validation loss')\n",
    "plt.legend()\n",
    "\n",
    "plt.show()"
   ]
  },
  {
   "cell_type": "code",
   "execution_count": null,
   "metadata": {
    "execution": {
     "iopub.execute_input": "2023-07-04T09:42:06.552232Z",
     "iopub.status.busy": "2023-07-04T09:42:06.551805Z",
     "iopub.status.idle": "2023-07-04T09:42:09.500013Z",
     "shell.execute_reply": "2023-07-04T09:42:09.498303Z",
     "shell.execute_reply.started": "2023-07-04T09:42:06.552192Z"
    }
   },
   "outputs": [],
   "source": [
    "# Classify custom sample\n",
    "\n",
    "sentences = [\n",
    "            \"He's over the moon about being accepted to the university\",\n",
    "            \"Your point on this certain matter made me outrageous, how can you say so? This is insane.\",\n",
    "            \"I can't do it, I'm not ready to lose anything, just leave me alone\",\n",
    "            \"Merlin's beard harry, you can cast the Patronus charm! I'm amazed!\"\n",
    "            ]\n",
    "for sentence in sentences:\n",
    "    print(sentence)\n",
    "    sentence = normalized_sentence(sentence)\n",
    "    sentence = tokenizer.texts_to_sequences([sentence])\n",
    "    sentence = pad_sequences(sentence, maxlen=229, truncating='pre')\n",
    "    result = le.inverse_transform(np.argmax(model.predict(sentence), axis=-1))[0]\n",
    "    proba =  np.max(model.predict(sentence))\n",
    "    print(f\"{result} : {proba}\\n\\n\")"
   ]
  },
  {
   "cell_type": "code",
   "execution_count": null,
   "metadata": {
    "execution": {
     "iopub.execute_input": "2023-07-04T09:42:09.502865Z",
     "iopub.status.busy": "2023-07-04T09:42:09.501660Z",
     "iopub.status.idle": "2023-07-04T09:42:10.577057Z",
     "shell.execute_reply": "2023-07-04T09:42:10.575984Z",
     "shell.execute_reply.started": "2023-07-04T09:42:09.502820Z"
    }
   },
   "outputs": [],
   "source": [
    "sentence= 'my old brother is dead'\n",
    "print(sentence)\n",
    "sentence = normalized_sentence(sentence)\n",
    "sentence = tokenizer.texts_to_sequences([sentence])\n",
    "sentence = pad_sequences(sentence, maxlen=229, truncating='pre')\n",
    "result = le.inverse_transform(np.argmax(model.predict(sentence), axis=-1))[0]\n",
    "proba =  np.max(model.predict(sentence))\n",
    "print(f\"{result} : {proba}\\n\\n\")"
   ]
  },
  {
   "cell_type": "code",
   "execution_count": null,
   "metadata": {
    "execution": {
     "iopub.execute_input": "2023-07-04T09:42:10.584928Z",
     "iopub.status.busy": "2023-07-04T09:42:10.581787Z",
     "iopub.status.idle": "2023-07-04T09:42:11.667272Z",
     "shell.execute_reply": "2023-07-04T09:42:11.665958Z",
     "shell.execute_reply.started": "2023-07-04T09:42:10.584880Z"
    }
   },
   "outputs": [],
   "source": [
    "sentence= 'Today, I joined my new school. It was very nice and exciting, My class teacher was very nice to me. She introduced me to the entire class. I sat with Shalini, the monitor of the class. She helped in every way possible. She gave me her notebooks, shared her lunch with me. She even helped me with my classwork.'\n",
    "print(sentence)\n",
    "sentence = normalized_sentence(sentence)\n",
    "sentence = tokenizer.texts_to_sequences([sentence])\n",
    "sentence = pad_sequences(sentence, maxlen=229, truncating='pre')\n",
    "result = le.inverse_transform(np.argmax(model.predict(sentence), axis=-1))[0]\n",
    "proba =  np.max(model.predict(sentence))\n",
    "print(f\"{result} : {proba}\\n\\n\")"
   ]
  },
  {
   "cell_type": "code",
   "execution_count": null,
   "metadata": {
    "execution": {
     "iopub.execute_input": "2023-07-04T09:42:11.669777Z",
     "iopub.status.busy": "2023-07-04T09:42:11.669387Z",
     "iopub.status.idle": "2023-07-04T09:42:11.675016Z",
     "shell.execute_reply": "2023-07-04T09:42:11.673892Z",
     "shell.execute_reply.started": "2023-07-04T09:42:11.669737Z"
    }
   },
   "outputs": [],
   "source": [
    "def get_sentences(paragraph):\n",
    "    sentences = nltk.sent_tokenize(paragraph)\n",
    "    return sentences"
   ]
  },
  {
   "cell_type": "code",
   "execution_count": null,
   "metadata": {
    "execution": {
     "iopub.execute_input": "2023-07-04T09:42:11.677560Z",
     "iopub.status.busy": "2023-07-04T09:42:11.676805Z",
     "iopub.status.idle": "2023-07-04T09:42:11.688953Z",
     "shell.execute_reply": "2023-07-04T09:42:11.687745Z",
     "shell.execute_reply.started": "2023-07-04T09:42:11.677504Z"
    }
   },
   "outputs": [],
   "source": [
    "def print_emotions(paragraph):\n",
    "    sentences = get_sentences(paragraph)\n",
    "    for sentence in sentences:\n",
    "        print(sentence)\n",
    "        sentence = normalized_sentence(sentence)\n",
    "        sentence = tokenizer.texts_to_sequences([sentence])\n",
    "        sentence = pad_sequences(sentence, maxlen=229, truncating='pre')\n",
    "        result = le.inverse_transform(np.argmax(model.predict(sentence), axis=-1))[0]\n",
    "        proba =  np.max(model.predict(sentence))\n",
    "        print(f\"{result} : {proba}\\n\\n\")"
   ]
  },
  {
   "cell_type": "code",
   "execution_count": null,
   "metadata": {
    "execution": {
     "iopub.execute_input": "2023-07-04T09:42:11.691303Z",
     "iopub.status.busy": "2023-07-04T09:42:11.690818Z",
     "iopub.status.idle": "2023-07-04T09:42:16.932218Z",
     "shell.execute_reply": "2023-07-04T09:42:16.930965Z",
     "shell.execute_reply.started": "2023-07-04T09:42:11.691257Z"
    }
   },
   "outputs": [],
   "source": [
    "print_emotions(\"Today, I joined my new school. It was very nice and exciting, My class teacher was very nice to me. She introduced me to the entire class. I sat with Shalini, the monitor of the class. She helped in every way possible. She gave me her notebooks, shared her lunch with me. She even helped me with my classwork.\")"
   ]
  },
  {
   "cell_type": "code",
   "execution_count": null,
   "metadata": {
    "execution": {
     "iopub.execute_input": "2023-07-04T09:42:16.936386Z",
     "iopub.status.busy": "2023-07-04T09:42:16.936051Z",
     "iopub.status.idle": "2023-07-04T09:42:19.873076Z",
     "shell.execute_reply": "2023-07-04T09:42:19.871957Z",
     "shell.execute_reply.started": "2023-07-04T09:42:16.936354Z"
    }
   },
   "outputs": [],
   "source": [
    "print_emotions(\"Today was a mix of emotions. School was challenging, but I managed to find joy during lunch with my friends. In the evening, I had a great guitar lesson and received compliments on my progress. Ending the day with a cozy family dinner reminded me of the importance of love and support.\")"
   ]
  },
  {
   "cell_type": "code",
   "execution_count": null,
   "metadata": {
    "execution": {
     "iopub.execute_input": "2023-07-04T09:46:04.301136Z",
     "iopub.status.busy": "2023-07-04T09:46:04.300704Z",
     "iopub.status.idle": "2023-07-04T09:46:09.636638Z",
     "shell.execute_reply": "2023-07-04T09:46:09.635485Z",
     "shell.execute_reply.started": "2023-07-04T09:46:04.301099Z"
    }
   },
   "outputs": [],
   "source": [
    "print_emotions(\"Wow, what an adventure-filled day! I went hiking with my friends in the nearby mountains. The scenic views took my breath away, and we had so much fun exploring the trails. We even discovered a hidden waterfall and took a refreshing dip in its crystal-clear waters. Nature truly has a way of rejuvenating the soul. Feeling tired but fulfilled, we gathered around a bonfire in the evening, sharing stories and laughter. It's moments like these that make me appreciate the beauty of friendship and the wonders of the world.\")"
   ]
  },
  {
   "cell_type": "code",
   "execution_count": null,
   "metadata": {
    "execution": {
     "iopub.execute_input": "2023-07-04T09:42:25.938874Z",
     "iopub.status.busy": "2023-07-04T09:42:25.937988Z",
     "iopub.status.idle": "2023-07-04T09:42:27.441183Z",
     "shell.execute_reply": "2023-07-04T09:42:27.439950Z",
     "shell.execute_reply.started": "2023-07-04T09:42:25.938831Z"
    }
   },
   "outputs": [],
   "source": [
    "print_emotions(\"I took a walk today, it was pleasant. Although it started raining as soon as I came back home.\")"
   ]
  },
  {
   "cell_type": "code",
   "execution_count": null,
   "metadata": {
    "execution": {
     "iopub.execute_input": "2023-07-04T09:55:04.113261Z",
     "iopub.status.busy": "2023-07-04T09:55:04.112802Z",
     "iopub.status.idle": "2023-07-04T09:55:04.125593Z",
     "shell.execute_reply": "2023-07-04T09:55:04.123851Z",
     "shell.execute_reply.started": "2023-07-04T09:55:04.113210Z"
    }
   },
   "outputs": [],
   "source": [
    "def print_emotion_percentages(paragraph):\n",
    "    sentences = get_sentences(paragraph)\n",
    "    total_sentences = len(sentences)\n",
    "    emotions = {}\n",
    "\n",
    "    sentences = get_sentences(paragraph)\n",
    "    for sentence in sentences:\n",
    "        print(sentence)\n",
    "        sentence = normalized_sentence(sentence)\n",
    "        sentence = tokenizer.texts_to_sequences([sentence])\n",
    "        sentence = pad_sequences(sentence, maxlen=229, truncating='pre')\n",
    "        result = le.inverse_transform(np.argmax(model.predict(sentence), axis=-1))[0]\n",
    "        proba =  np.max(model.predict(sentence))\n",
    "\n",
    "        if result in emotions:\n",
    "            emotions[result] += 1\n",
    "        else:\n",
    "            emotions[result] = 1\n",
    "\n",
    "        print(f\"{result} : {proba}\\n\\n\")\n",
    "\n",
    "    for emotion, count in emotions.items():\n",
    "        percentage = (count / total_sentences) * 100\n",
    "        print(f\"{emotion}: {percentage}%\")\n",
    "\n"
   ]
  },
  {
   "cell_type": "code",
   "execution_count": null,
   "metadata": {
    "execution": {
     "iopub.execute_input": "2023-07-04T09:55:07.129831Z",
     "iopub.status.busy": "2023-07-04T09:55:07.128985Z",
     "iopub.status.idle": "2023-07-04T09:55:10.727480Z",
     "shell.execute_reply": "2023-07-04T09:55:10.726318Z",
     "shell.execute_reply.started": "2023-07-04T09:55:07.129783Z"
    }
   },
   "outputs": [],
   "source": [
    "print_emotion_percentages(\"Today was a mix of emotions. School was challenging, but I managed to find joy during lunch with my friends. In the evening, I had a great guitar lesson and received compliments on my progress. Ending the day with a cozy family dinner reminded me of the importance of love and support.\")"
   ]
  },
  {
   "cell_type": "code",
   "execution_count": null,
   "metadata": {
    "execution": {
     "iopub.execute_input": "2023-07-04T09:56:37.240133Z",
     "iopub.status.busy": "2023-07-04T09:56:37.239711Z",
     "iopub.status.idle": "2023-07-04T09:56:43.255930Z",
     "shell.execute_reply": "2023-07-04T09:56:43.254632Z",
     "shell.execute_reply.started": "2023-07-04T09:56:37.240096Z"
    }
   },
   "outputs": [],
   "source": [
    "print_emotion_percentages(\"Wow, what an adventure-filled day! I went hiking with my friends in the nearby mountains. The scenic views took my breath away, and we had so much fun exploring the trails. We even discovered a hidden waterfall and took a refreshing dip in its crystal-clear waters. Nature truly has a way of rejuvenating the soul. Feeling tired but fulfilled, we gathered around a bonfire in the evening, sharing stories and laughter. It's moments like these that make me appreciate the beauty of friendship and the wonders of the world.\")"
   ]
  },
  {
   "cell_type": "code",
   "execution_count": null,
   "metadata": {
    "execution": {
     "iopub.execute_input": "2023-07-04T09:58:07.518994Z",
     "iopub.status.busy": "2023-07-04T09:58:07.518546Z",
     "iopub.status.idle": "2023-07-04T09:58:12.828475Z",
     "shell.execute_reply": "2023-07-04T09:58:12.827316Z",
     "shell.execute_reply.started": "2023-07-04T09:58:07.518956Z"
    }
   },
   "outputs": [],
   "source": [
    "print_emotion_percentages(\"Today, I joined my new school. It was very nice and exciting, My class teacher was very nice to me. She introduced me to the entire class. I sat with Shalini, the monitor of the class. She helped in every way possible. She gave me her notebooks, shared her lunch with me. She even helped me with my classwork.\")"
   ]
  },
  {
   "cell_type": "code",
   "execution_count": null,
   "metadata": {},
   "outputs": [],
   "source": [
    "import pickle\n",
    "\n",
    "# Pickle the tokenizer\n",
    "with open('tokenizer.pkl', 'wb') as f:\n",
    "    pickle.dump(tokenizer, f)\n",
    "\n",
    "# Pickle the label encoder\n",
    "with open('label_encoder.pkl', 'wb') as f:\n",
    "    pickle.dump(le, f)\n"
   ]
  },
  {
   "cell_type": "code",
   "execution_count": null,
   "metadata": {},
   "outputs": [],
   "source": []
  }
 ],
 "metadata": {
  "kernelspec": {
   "display_name": "Python 3 (ipykernel)",
   "language": "python",
   "name": "python3"
  },
  "language_info": {
   "codemirror_mode": {
    "name": "ipython",
    "version": 3
   },
   "file_extension": ".py",
   "mimetype": "text/x-python",
   "name": "python",
   "nbconvert_exporter": "python",
   "pygments_lexer": "ipython3",
   "version": "3.10.9"
  }
 },
 "nbformat": 4,
 "nbformat_minor": 4
}
